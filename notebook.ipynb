{
 "cells": [
  {
   "cell_type": "markdown",
   "metadata": {},
   "source": [
    "Hi Jeel, thank you for addressing the feedback and resolving the issues in your project! 🎉 Your updates look great, and I’m happy to approve your project. Fantastic work on implementing the changes and ensuring everything runs smoothly. Keep up the excellent effort, and best of luck with your next steps! 😊"
   ]
  },
  {
   "cell_type": "markdown",
   "metadata": {},
   "source": [
    "Hi Jeel, thank you for submtting project after changes but I am not able to see the outputs please run the cells again and resubmit. All the best"
   ]
  },
  {
   "cell_type": "markdown",
   "metadata": {},
   "source": [
    "Hi Jeel,\n",
    "\n",
    "Thank you for submitting the project. I have provided feedback on your code. Please review the yellow comments for suggestions on improving your code, and the red comments indicate mistakes that need to be corrected. Once these are resolved, kindly resubmit the project for approval. If you have any questions, feel free to reach out. All the best!"
   ]
  },
  {
   "cell_type": "markdown",
   "metadata": {},
   "source": [
    "Please find my comments below—**I kindly ask that you do not move, modify, or delete them**.\n",
    "\n",
    "You can find my comments highlighted in green, yellow, or red boxes like this:\n",
    "\n",
    "<div class=\"alert alert-block alert-success\">\n",
    "<b>Reviewer's comment</b> <a class=\"tocSkip\"></a>\n",
    "\n",
    "Success. Everything is done succesfully.\n",
    "\n",
    "</div>\n",
    "\n",
    "<div class=\"alert alert-block alert-warning\">\n",
    "<b>Reviewer's comment</b> <a class=\"tocSkip\"></a>\n",
    "\n",
    "Remarks. Some recommendations.\n",
    "\n",
    "</div>\n",
    "\n",
    "<div class=\"alert alert-block alert-danger\">\n",
    "<b>Reviewer's comment</b> <a class=\"tocSkip\"></a>\n",
    "\n",
    "Needs fixing. The block requires some corrections. Work can't be accepted with the red comments.\n",
    "\n",
    "</div>\n",
    "\n",
    "You can answer me by using this:\n",
    "\n",
    "<div class=\"alert alert-block alert-info\">\n",
    "<b>Student answer</b> <a class=\"tocSkip\"></a>\n",
    "\n",
    "</div>"
   ]
  },
  {
   "cell_type": "markdown",
   "metadata": {},
   "source": [
    "# How to Determine A New Well for OilyGiant Mining Company"
   ]
  },
  {
   "cell_type": "markdown",
   "metadata": {},
   "source": [
    "## Introduction"
   ]
  },
  {
   "cell_type": "markdown",
   "metadata": {},
   "source": [
    "The project is to find the best place for a new well for the OilyGiant mining company using the data on oil samples from three regions. For this, collect the oil well parameters in the selected region that is the oil quality and volume of reserves. Following this, a model is build to predict the volume of reserves in the new wells. Lastly, after predicting the volume of reserves in the new wells, pick the oil wells with the highest estimated values and the region with the highest profit margin for the selected oil wells along with risks using the Bootstrapping technique. "
   ]
  },
  {
   "cell_type": "markdown",
   "metadata": {},
   "source": [
    "## Data Overview"
   ]
  },
  {
   "cell_type": "code",
   "execution_count": 1,
   "metadata": {},
   "outputs": [],
   "source": [
    "import pandas as pd \n",
    "from matplotlib import pyplot as plt\n",
    "import seaborn as sns\n",
    "import numpy as np \n",
    "from scipy import stats as st"
   ]
  },
  {
   "cell_type": "code",
   "execution_count": 2,
   "metadata": {},
   "outputs": [],
   "source": [
    "from sklearn.linear_model import LinearRegression\n",
    "from sklearn.model_selection import train_test_split\n",
    "from sklearn.metrics import mean_squared_error"
   ]
  },
  {
   "cell_type": "code",
   "execution_count": 3,
   "metadata": {},
   "outputs": [],
   "source": [
    "data_0 = pd.read_csv('/datasets/geo_data_0.csv')\n",
    "data_1 = pd.read_csv('/datasets/geo_data_1.csv')\n",
    "data_2 = pd.read_csv('/datasets/geo_data_2.csv')"
   ]
  },
  {
   "cell_type": "code",
   "execution_count": 4,
   "metadata": {},
   "outputs": [
    {
     "data": {
      "text/html": [
       "<div>\n",
       "<style scoped>\n",
       "    .dataframe tbody tr th:only-of-type {\n",
       "        vertical-align: middle;\n",
       "    }\n",
       "\n",
       "    .dataframe tbody tr th {\n",
       "        vertical-align: top;\n",
       "    }\n",
       "\n",
       "    .dataframe thead th {\n",
       "        text-align: right;\n",
       "    }\n",
       "</style>\n",
       "<table border=\"1\" class=\"dataframe\">\n",
       "  <thead>\n",
       "    <tr style=\"text-align: right;\">\n",
       "      <th></th>\n",
       "      <th>id</th>\n",
       "      <th>f0</th>\n",
       "      <th>f1</th>\n",
       "      <th>f2</th>\n",
       "      <th>product</th>\n",
       "    </tr>\n",
       "  </thead>\n",
       "  <tbody>\n",
       "    <tr>\n",
       "      <th>0</th>\n",
       "      <td>txEyH</td>\n",
       "      <td>0.705745</td>\n",
       "      <td>-0.497823</td>\n",
       "      <td>1.221170</td>\n",
       "      <td>105.280062</td>\n",
       "    </tr>\n",
       "    <tr>\n",
       "      <th>1</th>\n",
       "      <td>2acmU</td>\n",
       "      <td>1.334711</td>\n",
       "      <td>-0.340164</td>\n",
       "      <td>4.365080</td>\n",
       "      <td>73.037750</td>\n",
       "    </tr>\n",
       "    <tr>\n",
       "      <th>2</th>\n",
       "      <td>409Wp</td>\n",
       "      <td>1.022732</td>\n",
       "      <td>0.151990</td>\n",
       "      <td>1.419926</td>\n",
       "      <td>85.265647</td>\n",
       "    </tr>\n",
       "    <tr>\n",
       "      <th>3</th>\n",
       "      <td>iJLyR</td>\n",
       "      <td>-0.032172</td>\n",
       "      <td>0.139033</td>\n",
       "      <td>2.978566</td>\n",
       "      <td>168.620776</td>\n",
       "    </tr>\n",
       "    <tr>\n",
       "      <th>4</th>\n",
       "      <td>Xdl7t</td>\n",
       "      <td>1.988431</td>\n",
       "      <td>0.155413</td>\n",
       "      <td>4.751769</td>\n",
       "      <td>154.036647</td>\n",
       "    </tr>\n",
       "  </tbody>\n",
       "</table>\n",
       "</div>"
      ],
      "text/plain": [
       "      id        f0        f1        f2     product\n",
       "0  txEyH  0.705745 -0.497823  1.221170  105.280062\n",
       "1  2acmU  1.334711 -0.340164  4.365080   73.037750\n",
       "2  409Wp  1.022732  0.151990  1.419926   85.265647\n",
       "3  iJLyR -0.032172  0.139033  2.978566  168.620776\n",
       "4  Xdl7t  1.988431  0.155413  4.751769  154.036647"
      ]
     },
     "metadata": {},
     "output_type": "display_data"
    }
   ],
   "source": [
    "display(data_0.head())"
   ]
  },
  {
   "cell_type": "code",
   "execution_count": 5,
   "metadata": {},
   "outputs": [
    {
     "data": {
      "text/html": [
       "<div>\n",
       "<style scoped>\n",
       "    .dataframe tbody tr th:only-of-type {\n",
       "        vertical-align: middle;\n",
       "    }\n",
       "\n",
       "    .dataframe tbody tr th {\n",
       "        vertical-align: top;\n",
       "    }\n",
       "\n",
       "    .dataframe thead th {\n",
       "        text-align: right;\n",
       "    }\n",
       "</style>\n",
       "<table border=\"1\" class=\"dataframe\">\n",
       "  <thead>\n",
       "    <tr style=\"text-align: right;\">\n",
       "      <th></th>\n",
       "      <th>id</th>\n",
       "      <th>f0</th>\n",
       "      <th>f1</th>\n",
       "      <th>f2</th>\n",
       "      <th>product</th>\n",
       "    </tr>\n",
       "  </thead>\n",
       "  <tbody>\n",
       "    <tr>\n",
       "      <th>0</th>\n",
       "      <td>kBEdx</td>\n",
       "      <td>-15.001348</td>\n",
       "      <td>-8.276000</td>\n",
       "      <td>-0.005876</td>\n",
       "      <td>3.179103</td>\n",
       "    </tr>\n",
       "    <tr>\n",
       "      <th>1</th>\n",
       "      <td>62mP7</td>\n",
       "      <td>14.272088</td>\n",
       "      <td>-3.475083</td>\n",
       "      <td>0.999183</td>\n",
       "      <td>26.953261</td>\n",
       "    </tr>\n",
       "    <tr>\n",
       "      <th>2</th>\n",
       "      <td>vyE1P</td>\n",
       "      <td>6.263187</td>\n",
       "      <td>-5.948386</td>\n",
       "      <td>5.001160</td>\n",
       "      <td>134.766305</td>\n",
       "    </tr>\n",
       "    <tr>\n",
       "      <th>3</th>\n",
       "      <td>KcrkZ</td>\n",
       "      <td>-13.081196</td>\n",
       "      <td>-11.506057</td>\n",
       "      <td>4.999415</td>\n",
       "      <td>137.945408</td>\n",
       "    </tr>\n",
       "    <tr>\n",
       "      <th>4</th>\n",
       "      <td>AHL4O</td>\n",
       "      <td>12.702195</td>\n",
       "      <td>-8.147433</td>\n",
       "      <td>5.004363</td>\n",
       "      <td>134.766305</td>\n",
       "    </tr>\n",
       "  </tbody>\n",
       "</table>\n",
       "</div>"
      ],
      "text/plain": [
       "      id         f0         f1        f2     product\n",
       "0  kBEdx -15.001348  -8.276000 -0.005876    3.179103\n",
       "1  62mP7  14.272088  -3.475083  0.999183   26.953261\n",
       "2  vyE1P   6.263187  -5.948386  5.001160  134.766305\n",
       "3  KcrkZ -13.081196 -11.506057  4.999415  137.945408\n",
       "4  AHL4O  12.702195  -8.147433  5.004363  134.766305"
      ]
     },
     "metadata": {},
     "output_type": "display_data"
    }
   ],
   "source": [
    "display(data_1.head())"
   ]
  },
  {
   "cell_type": "code",
   "execution_count": 6,
   "metadata": {
    "scrolled": false
   },
   "outputs": [
    {
     "data": {
      "text/html": [
       "<div>\n",
       "<style scoped>\n",
       "    .dataframe tbody tr th:only-of-type {\n",
       "        vertical-align: middle;\n",
       "    }\n",
       "\n",
       "    .dataframe tbody tr th {\n",
       "        vertical-align: top;\n",
       "    }\n",
       "\n",
       "    .dataframe thead th {\n",
       "        text-align: right;\n",
       "    }\n",
       "</style>\n",
       "<table border=\"1\" class=\"dataframe\">\n",
       "  <thead>\n",
       "    <tr style=\"text-align: right;\">\n",
       "      <th></th>\n",
       "      <th>id</th>\n",
       "      <th>f0</th>\n",
       "      <th>f1</th>\n",
       "      <th>f2</th>\n",
       "      <th>product</th>\n",
       "    </tr>\n",
       "  </thead>\n",
       "  <tbody>\n",
       "    <tr>\n",
       "      <th>0</th>\n",
       "      <td>fwXo0</td>\n",
       "      <td>-1.146987</td>\n",
       "      <td>0.963328</td>\n",
       "      <td>-0.828965</td>\n",
       "      <td>27.758673</td>\n",
       "    </tr>\n",
       "    <tr>\n",
       "      <th>1</th>\n",
       "      <td>WJtFt</td>\n",
       "      <td>0.262778</td>\n",
       "      <td>0.269839</td>\n",
       "      <td>-2.530187</td>\n",
       "      <td>56.069697</td>\n",
       "    </tr>\n",
       "    <tr>\n",
       "      <th>2</th>\n",
       "      <td>ovLUW</td>\n",
       "      <td>0.194587</td>\n",
       "      <td>0.289035</td>\n",
       "      <td>-5.586433</td>\n",
       "      <td>62.871910</td>\n",
       "    </tr>\n",
       "    <tr>\n",
       "      <th>3</th>\n",
       "      <td>q6cA6</td>\n",
       "      <td>2.236060</td>\n",
       "      <td>-0.553760</td>\n",
       "      <td>0.930038</td>\n",
       "      <td>114.572842</td>\n",
       "    </tr>\n",
       "    <tr>\n",
       "      <th>4</th>\n",
       "      <td>WPMUX</td>\n",
       "      <td>-0.515993</td>\n",
       "      <td>1.716266</td>\n",
       "      <td>5.899011</td>\n",
       "      <td>149.600746</td>\n",
       "    </tr>\n",
       "  </tbody>\n",
       "</table>\n",
       "</div>"
      ],
      "text/plain": [
       "      id        f0        f1        f2     product\n",
       "0  fwXo0 -1.146987  0.963328 -0.828965   27.758673\n",
       "1  WJtFt  0.262778  0.269839 -2.530187   56.069697\n",
       "2  ovLUW  0.194587  0.289035 -5.586433   62.871910\n",
       "3  q6cA6  2.236060 -0.553760  0.930038  114.572842\n",
       "4  WPMUX -0.515993  1.716266  5.899011  149.600746"
      ]
     },
     "metadata": {},
     "output_type": "display_data"
    }
   ],
   "source": [
    "display(data_2.head())"
   ]
  },
  {
   "cell_type": "markdown",
   "metadata": {},
   "source": [
    "<div class=\"alert alert-block alert-success\">\n",
    "<b>Reviewer's comment</b> <a class=\"tocSkip\"></a>\n",
    "\n",
    "Good Work!\n",
    "\n",
    "</div>"
   ]
  },
  {
   "cell_type": "markdown",
   "metadata": {},
   "source": [
    "<div class=\"alert alert-block alert-warning\">\n",
    "<b>Reviewer's comment</b> <a class=\"tocSkip\"></a>\n",
    "\n",
    "I would recommend plotting a histogram for all regions for getting visual insight to help prepare for next steps\n",
    "    \n",
    "see the code example below : \n",
    "    \n",
    "    data_all = [\n",
    "    data_0.drop('id', axis=1),\n",
    "    data_1.drop('id', axis=1),\n",
    "    data_2.drop('id', axis=1),\n",
    "]\n",
    "    \n",
    "        %matplotlib inline\n",
    "        import matplotlib.pyplot as plt\n",
    "\n",
    "        for data in data_all:\n",
    "            plt.figure()\n",
    "            data['product'].hist()\n",
    "\n",
    "</div>"
   ]
  },
  {
   "cell_type": "code",
   "execution_count": 7,
   "metadata": {},
   "outputs": [
    {
     "data": {
      "image/png": "[encoded data removed]",
      "text/plain": [
       "<Figure size 640x480 with 1 Axes>"
      ]
     },
     "metadata": {},
     "output_type": "display_data"
    },
    {
     "data": {
      "image/png": "[encoded data removed]",
      "text/plain": [
       "<Figure size 640x480 with 1 Axes>"
      ]
     },
     "metadata": {},
     "output_type": "display_data"
    },
    {
     "data": {
      "image/png": "[encoded data removed]",
      "text/plain": [
       "<Figure size 640x480 with 1 Axes>"
      ]
     },
     "metadata": {},
     "output_type": "display_data"
    }
   ],
   "source": [
    "data_all = [\n",
    "    data_0.drop('id', axis=1),\n",
    "    data_1.drop('id', axis=1),\n",
    "    data_2.drop('id', axis=1)]\n",
    "\n",
    "for data in data_all:\n",
    "    plt.figure()\n",
    "    data['product'].hist()"
   ]
  },
  {
   "cell_type": "markdown",
   "metadata": {},
   "source": [
    "The first histogram appears to have a symmetric, bell-shaped distribution which shows that this data is a normal distribution, which represents that the data is evenly distributed around mean. It also indicates that product - volume of reserves in the oil well has natural variation. The second histogram appears to have high frequencies at both ends and low frequencies in the middle part which looks like U-shaped distribution. This might represent that the data is split into two distinct groups, one where the wells might have low volume of reserves, while other where the wells might have high volume of reserves and rest very few wells in between those groups. Lastly, the third histogram is similar to first histogram, but a slight different spread compared to first histogram. "
   ]
  },
  {
   "cell_type": "markdown",
   "metadata": {},
   "source": [
    "## Data Preprocessing"
   ]
  },
  {
   "cell_type": "code",
   "execution_count": 8,
   "metadata": {},
   "outputs": [
    {
     "name": "stdout",
     "output_type": "stream",
     "text": [
      "The DataFrame has 100000 rows and 5 columns\n"
     ]
    }
   ],
   "source": [
    "n_rows, n_cols = data_0.shape\n",
    "print(f\"The DataFrame has {n_rows} rows and {n_cols} columns\")"
   ]
  },
  {
   "cell_type": "code",
   "execution_count": 9,
   "metadata": {},
   "outputs": [
    {
     "name": "stdout",
     "output_type": "stream",
     "text": [
      "The DataFrame has 100000 rows and 5 columns\n"
     ]
    }
   ],
   "source": [
    "n_rows, n_cols = data_1.shape\n",
    "print(f\"The DataFrame has {n_rows} rows and {n_cols} columns\")"
   ]
  },
  {
   "cell_type": "code",
   "execution_count": 10,
   "metadata": {},
   "outputs": [
    {
     "name": "stdout",
     "output_type": "stream",
     "text": [
      "The DataFrame has 100000 rows and 5 columns\n"
     ]
    }
   ],
   "source": [
    "n_rows, n_cols = data_2.shape\n",
    "print(f\"The DataFrame has {n_rows} rows and {n_cols} columns\")"
   ]
  },
  {
   "cell_type": "code",
   "execution_count": 11,
   "metadata": {},
   "outputs": [
    {
     "name": "stdout",
     "output_type": "stream",
     "text": [
      "<class 'pandas.core.frame.DataFrame'>\n",
      "RangeIndex: 100000 entries, 0 to 99999\n",
      "Data columns (total 5 columns):\n",
      " #   Column   Non-Null Count   Dtype  \n",
      "---  ------   --------------   -----  \n",
      " 0   id       100000 non-null  object \n",
      " 1   f0       100000 non-null  float64\n",
      " 2   f1       100000 non-null  float64\n",
      " 3   f2       100000 non-null  float64\n",
      " 4   product  100000 non-null  float64\n",
      "dtypes: float64(4), object(1)\n",
      "memory usage: 3.8+ MB\n"
     ]
    }
   ],
   "source": [
    "data_0.info()"
   ]
  },
  {
   "cell_type": "code",
   "execution_count": 12,
   "metadata": {},
   "outputs": [
    {
     "name": "stdout",
     "output_type": "stream",
     "text": [
      "<class 'pandas.core.frame.DataFrame'>\n",
      "RangeIndex: 100000 entries, 0 to 99999\n",
      "Data columns (total 5 columns):\n",
      " #   Column   Non-Null Count   Dtype  \n",
      "---  ------   --------------   -----  \n",
      " 0   id       100000 non-null  object \n",
      " 1   f0       100000 non-null  float64\n",
      " 2   f1       100000 non-null  float64\n",
      " 3   f2       100000 non-null  float64\n",
      " 4   product  100000 non-null  float64\n",
      "dtypes: float64(4), object(1)\n",
      "memory usage: 3.8+ MB\n"
     ]
    }
   ],
   "source": [
    "data_1.info()"
   ]
  },
  {
   "cell_type": "code",
   "execution_count": 13,
   "metadata": {},
   "outputs": [
    {
     "name": "stdout",
     "output_type": "stream",
     "text": [
      "<class 'pandas.core.frame.DataFrame'>\n",
      "RangeIndex: 100000 entries, 0 to 99999\n",
      "Data columns (total 5 columns):\n",
      " #   Column   Non-Null Count   Dtype  \n",
      "---  ------   --------------   -----  \n",
      " 0   id       100000 non-null  object \n",
      " 1   f0       100000 non-null  float64\n",
      " 2   f1       100000 non-null  float64\n",
      " 3   f2       100000 non-null  float64\n",
      " 4   product  100000 non-null  float64\n",
      "dtypes: float64(4), object(1)\n",
      "memory usage: 3.8+ MB\n"
     ]
    }
   ],
   "source": [
    "data_2.info()"
   ]
  },
  {
   "cell_type": "code",
   "execution_count": 14,
   "metadata": {},
   "outputs": [
    {
     "data": {
      "text/html": [
       "<div>\n",
       "<style scoped>\n",
       "    .dataframe tbody tr th:only-of-type {\n",
       "        vertical-align: middle;\n",
       "    }\n",
       "\n",
       "    .dataframe tbody tr th {\n",
       "        vertical-align: top;\n",
       "    }\n",
       "\n",
       "    .dataframe thead th {\n",
       "        text-align: right;\n",
       "    }\n",
       "</style>\n",
       "<table border=\"1\" class=\"dataframe\">\n",
       "  <thead>\n",
       "    <tr style=\"text-align: right;\">\n",
       "      <th></th>\n",
       "      <th>f0</th>\n",
       "      <th>f1</th>\n",
       "      <th>f2</th>\n",
       "      <th>product</th>\n",
       "    </tr>\n",
       "  </thead>\n",
       "  <tbody>\n",
       "    <tr>\n",
       "      <th>count</th>\n",
       "      <td>100000.000000</td>\n",
       "      <td>100000.000000</td>\n",
       "      <td>100000.000000</td>\n",
       "      <td>100000.000000</td>\n",
       "    </tr>\n",
       "    <tr>\n",
       "      <th>mean</th>\n",
       "      <td>0.500419</td>\n",
       "      <td>0.250143</td>\n",
       "      <td>2.502647</td>\n",
       "      <td>92.500000</td>\n",
       "    </tr>\n",
       "    <tr>\n",
       "      <th>std</th>\n",
       "      <td>0.871832</td>\n",
       "      <td>0.504433</td>\n",
       "      <td>3.248248</td>\n",
       "      <td>44.288691</td>\n",
       "    </tr>\n",
       "    <tr>\n",
       "      <th>min</th>\n",
       "      <td>-1.408605</td>\n",
       "      <td>-0.848218</td>\n",
       "      <td>-12.088328</td>\n",
       "      <td>0.000000</td>\n",
       "    </tr>\n",
       "    <tr>\n",
       "      <th>25%</th>\n",
       "      <td>-0.072580</td>\n",
       "      <td>-0.200881</td>\n",
       "      <td>0.287748</td>\n",
       "      <td>56.497507</td>\n",
       "    </tr>\n",
       "    <tr>\n",
       "      <th>50%</th>\n",
       "      <td>0.502360</td>\n",
       "      <td>0.250252</td>\n",
       "      <td>2.515969</td>\n",
       "      <td>91.849972</td>\n",
       "    </tr>\n",
       "    <tr>\n",
       "      <th>75%</th>\n",
       "      <td>1.073581</td>\n",
       "      <td>0.700646</td>\n",
       "      <td>4.715088</td>\n",
       "      <td>128.564089</td>\n",
       "    </tr>\n",
       "    <tr>\n",
       "      <th>max</th>\n",
       "      <td>2.362331</td>\n",
       "      <td>1.343769</td>\n",
       "      <td>16.003790</td>\n",
       "      <td>185.364347</td>\n",
       "    </tr>\n",
       "  </tbody>\n",
       "</table>\n",
       "</div>"
      ],
      "text/plain": [
       "                  f0             f1             f2        product\n",
       "count  100000.000000  100000.000000  100000.000000  100000.000000\n",
       "mean        0.500419       0.250143       2.502647      92.500000\n",
       "std         0.871832       0.504433       3.248248      44.288691\n",
       "min        -1.408605      -0.848218     -12.088328       0.000000\n",
       "25%        -0.072580      -0.200881       0.287748      56.497507\n",
       "50%         0.502360       0.250252       2.515969      91.849972\n",
       "75%         1.073581       0.700646       4.715088     128.564089\n",
       "max         2.362331       1.343769      16.003790     185.364347"
      ]
     },
     "execution_count": 14,
     "metadata": {},
     "output_type": "execute_result"
    }
   ],
   "source": [
    "data_0.describe()"
   ]
  },
  {
   "cell_type": "code",
   "execution_count": 15,
   "metadata": {},
   "outputs": [
    {
     "data": {
      "text/html": [
       "<div>\n",
       "<style scoped>\n",
       "    .dataframe tbody tr th:only-of-type {\n",
       "        vertical-align: middle;\n",
       "    }\n",
       "\n",
       "    .dataframe tbody tr th {\n",
       "        vertical-align: top;\n",
       "    }\n",
       "\n",
       "    .dataframe thead th {\n",
       "        text-align: right;\n",
       "    }\n",
       "</style>\n",
       "<table border=\"1\" class=\"dataframe\">\n",
       "  <thead>\n",
       "    <tr style=\"text-align: right;\">\n",
       "      <th></th>\n",
       "      <th>f0</th>\n",
       "      <th>f1</th>\n",
       "      <th>f2</th>\n",
       "      <th>product</th>\n",
       "    </tr>\n",
       "  </thead>\n",
       "  <tbody>\n",
       "    <tr>\n",
       "      <th>count</th>\n",
       "      <td>100000.000000</td>\n",
       "      <td>100000.000000</td>\n",
       "      <td>100000.000000</td>\n",
       "      <td>100000.000000</td>\n",
       "    </tr>\n",
       "    <tr>\n",
       "      <th>mean</th>\n",
       "      <td>1.141296</td>\n",
       "      <td>-4.796579</td>\n",
       "      <td>2.494541</td>\n",
       "      <td>68.825000</td>\n",
       "    </tr>\n",
       "    <tr>\n",
       "      <th>std</th>\n",
       "      <td>8.965932</td>\n",
       "      <td>5.119872</td>\n",
       "      <td>1.703572</td>\n",
       "      <td>45.944423</td>\n",
       "    </tr>\n",
       "    <tr>\n",
       "      <th>min</th>\n",
       "      <td>-31.609576</td>\n",
       "      <td>-26.358598</td>\n",
       "      <td>-0.018144</td>\n",
       "      <td>0.000000</td>\n",
       "    </tr>\n",
       "    <tr>\n",
       "      <th>25%</th>\n",
       "      <td>-6.298551</td>\n",
       "      <td>-8.267985</td>\n",
       "      <td>1.000021</td>\n",
       "      <td>26.953261</td>\n",
       "    </tr>\n",
       "    <tr>\n",
       "      <th>50%</th>\n",
       "      <td>1.153055</td>\n",
       "      <td>-4.813172</td>\n",
       "      <td>2.011479</td>\n",
       "      <td>57.085625</td>\n",
       "    </tr>\n",
       "    <tr>\n",
       "      <th>75%</th>\n",
       "      <td>8.621015</td>\n",
       "      <td>-1.332816</td>\n",
       "      <td>3.999904</td>\n",
       "      <td>107.813044</td>\n",
       "    </tr>\n",
       "    <tr>\n",
       "      <th>max</th>\n",
       "      <td>29.421755</td>\n",
       "      <td>18.734063</td>\n",
       "      <td>5.019721</td>\n",
       "      <td>137.945408</td>\n",
       "    </tr>\n",
       "  </tbody>\n",
       "</table>\n",
       "</div>"
      ],
      "text/plain": [
       "                  f0             f1             f2        product\n",
       "count  100000.000000  100000.000000  100000.000000  100000.000000\n",
       "mean        1.141296      -4.796579       2.494541      68.825000\n",
       "std         8.965932       5.119872       1.703572      45.944423\n",
       "min       -31.609576     -26.358598      -0.018144       0.000000\n",
       "25%        -6.298551      -8.267985       1.000021      26.953261\n",
       "50%         1.153055      -4.813172       2.011479      57.085625\n",
       "75%         8.621015      -1.332816       3.999904     107.813044\n",
       "max        29.421755      18.734063       5.019721     137.945408"
      ]
     },
     "execution_count": 15,
     "metadata": {},
     "output_type": "execute_result"
    }
   ],
   "source": [
    "data_1.describe()"
   ]
  },
  {
   "cell_type": "code",
   "execution_count": 16,
   "metadata": {
    "scrolled": true
   },
   "outputs": [
    {
     "data": {
      "text/html": [
       "<div>\n",
       "<style scoped>\n",
       "    .dataframe tbody tr th:only-of-type {\n",
       "        vertical-align: middle;\n",
       "    }\n",
       "\n",
       "    .dataframe tbody tr th {\n",
       "        vertical-align: top;\n",
       "    }\n",
       "\n",
       "    .dataframe thead th {\n",
       "        text-align: right;\n",
       "    }\n",
       "</style>\n",
       "<table border=\"1\" class=\"dataframe\">\n",
       "  <thead>\n",
       "    <tr style=\"text-align: right;\">\n",
       "      <th></th>\n",
       "      <th>f0</th>\n",
       "      <th>f1</th>\n",
       "      <th>f2</th>\n",
       "      <th>product</th>\n",
       "    </tr>\n",
       "  </thead>\n",
       "  <tbody>\n",
       "    <tr>\n",
       "      <th>count</th>\n",
       "      <td>100000.000000</td>\n",
       "      <td>100000.000000</td>\n",
       "      <td>100000.000000</td>\n",
       "      <td>100000.000000</td>\n",
       "    </tr>\n",
       "    <tr>\n",
       "      <th>mean</th>\n",
       "      <td>0.002023</td>\n",
       "      <td>-0.002081</td>\n",
       "      <td>2.495128</td>\n",
       "      <td>95.000000</td>\n",
       "    </tr>\n",
       "    <tr>\n",
       "      <th>std</th>\n",
       "      <td>1.732045</td>\n",
       "      <td>1.730417</td>\n",
       "      <td>3.473445</td>\n",
       "      <td>44.749921</td>\n",
       "    </tr>\n",
       "    <tr>\n",
       "      <th>min</th>\n",
       "      <td>-8.760004</td>\n",
       "      <td>-7.084020</td>\n",
       "      <td>-11.970335</td>\n",
       "      <td>0.000000</td>\n",
       "    </tr>\n",
       "    <tr>\n",
       "      <th>25%</th>\n",
       "      <td>-1.162288</td>\n",
       "      <td>-1.174820</td>\n",
       "      <td>0.130359</td>\n",
       "      <td>59.450441</td>\n",
       "    </tr>\n",
       "    <tr>\n",
       "      <th>50%</th>\n",
       "      <td>0.009424</td>\n",
       "      <td>-0.009482</td>\n",
       "      <td>2.484236</td>\n",
       "      <td>94.925613</td>\n",
       "    </tr>\n",
       "    <tr>\n",
       "      <th>75%</th>\n",
       "      <td>1.158535</td>\n",
       "      <td>1.163678</td>\n",
       "      <td>4.858794</td>\n",
       "      <td>130.595027</td>\n",
       "    </tr>\n",
       "    <tr>\n",
       "      <th>max</th>\n",
       "      <td>7.238262</td>\n",
       "      <td>7.844801</td>\n",
       "      <td>16.739402</td>\n",
       "      <td>190.029838</td>\n",
       "    </tr>\n",
       "  </tbody>\n",
       "</table>\n",
       "</div>"
      ],
      "text/plain": [
       "                  f0             f1             f2        product\n",
       "count  100000.000000  100000.000000  100000.000000  100000.000000\n",
       "mean        0.002023      -0.002081       2.495128      95.000000\n",
       "std         1.732045       1.730417       3.473445      44.749921\n",
       "min        -8.760004      -7.084020     -11.970335       0.000000\n",
       "25%        -1.162288      -1.174820       0.130359      59.450441\n",
       "50%         0.009424      -0.009482       2.484236      94.925613\n",
       "75%         1.158535       1.163678       4.858794     130.595027\n",
       "max         7.238262       7.844801      16.739402     190.029838"
      ]
     },
     "execution_count": 16,
     "metadata": {},
     "output_type": "execute_result"
    }
   ],
   "source": [
    "data_2.describe()"
   ]
  },
  {
   "cell_type": "markdown",
   "metadata": {},
   "source": [
    "### Duplicates"
   ]
  },
  {
   "cell_type": "code",
   "execution_count": 17,
   "metadata": {},
   "outputs": [
    {
     "data": {
      "text/plain": [
       "'Number of duplicated data: 0'"
      ]
     },
     "metadata": {},
     "output_type": "display_data"
    }
   ],
   "source": [
    "duplicated_data_0 = data_0[data_0.duplicated()]\n",
    "display(f\"Number of duplicated data: {duplicated_data_0.shape[0]}\")"
   ]
  },
  {
   "cell_type": "code",
   "execution_count": 18,
   "metadata": {},
   "outputs": [
    {
     "data": {
      "text/plain": [
       "'Number of duplicated data: 0'"
      ]
     },
     "metadata": {},
     "output_type": "display_data"
    }
   ],
   "source": [
    "duplicated_data_1 = data_1[data_1.duplicated()]\n",
    "display(f\"Number of duplicated data: {duplicated_data_1.shape[0]}\")"
   ]
  },
  {
   "cell_type": "code",
   "execution_count": 19,
   "metadata": {},
   "outputs": [
    {
     "data": {
      "text/plain": [
       "'Number of duplicated data: 0'"
      ]
     },
     "metadata": {},
     "output_type": "display_data"
    }
   ],
   "source": [
    "duplicated_data_2 = data_2[data_2.duplicated()]\n",
    "display(f\"Number of duplicated data: {duplicated_data_2.shape[0]}\")"
   ]
  },
  {
   "cell_type": "markdown",
   "metadata": {},
   "source": [
    "### Missing Values"
   ]
  },
  {
   "cell_type": "code",
   "execution_count": 20,
   "metadata": {},
   "outputs": [
    {
     "data": {
      "text/plain": [
       "id         0\n",
       "f0         0\n",
       "f1         0\n",
       "f2         0\n",
       "product    0\n",
       "dtype: int64"
      ]
     },
     "metadata": {},
     "output_type": "display_data"
    },
    {
     "data": {
      "text/plain": [
       "id         0.0\n",
       "f0         0.0\n",
       "f1         0.0\n",
       "f2         0.0\n",
       "product    0.0\n",
       "dtype: float64"
      ]
     },
     "execution_count": 20,
     "metadata": {},
     "output_type": "execute_result"
    }
   ],
   "source": [
    "display(data_0.isna().sum())\n",
    "data_0.isnull().sum()/len(data_0)"
   ]
  },
  {
   "cell_type": "code",
   "execution_count": 21,
   "metadata": {},
   "outputs": [
    {
     "data": {
      "text/plain": [
       "id         0\n",
       "f0         0\n",
       "f1         0\n",
       "f2         0\n",
       "product    0\n",
       "dtype: int64"
      ]
     },
     "metadata": {},
     "output_type": "display_data"
    },
    {
     "data": {
      "text/plain": [
       "id         0.0\n",
       "f0         0.0\n",
       "f1         0.0\n",
       "f2         0.0\n",
       "product    0.0\n",
       "dtype: float64"
      ]
     },
     "execution_count": 21,
     "metadata": {},
     "output_type": "execute_result"
    }
   ],
   "source": [
    "display(data_1.isna().sum())\n",
    "data_1.isnull().sum()/len(data_1)"
   ]
  },
  {
   "cell_type": "code",
   "execution_count": 22,
   "metadata": {},
   "outputs": [
    {
     "data": {
      "text/plain": [
       "id         0\n",
       "f0         0\n",
       "f1         0\n",
       "f2         0\n",
       "product    0\n",
       "dtype: int64"
      ]
     },
     "metadata": {},
     "output_type": "display_data"
    },
    {
     "data": {
      "text/plain": [
       "id         0.0\n",
       "f0         0.0\n",
       "f1         0.0\n",
       "f2         0.0\n",
       "product    0.0\n",
       "dtype: float64"
      ]
     },
     "execution_count": 22,
     "metadata": {},
     "output_type": "execute_result"
    }
   ],
   "source": [
    "display(data_2.isna().sum())\n",
    "data_2.isnull().sum()/len(data_2)"
   ]
  },
  {
   "cell_type": "markdown",
   "metadata": {},
   "source": [
    "There were no duplicates, or missing values found in these datasets. "
   ]
  },
  {
   "cell_type": "markdown",
   "metadata": {},
   "source": [
    "## Data Analysis"
   ]
  },
  {
   "cell_type": "code",
   "execution_count": 23,
   "metadata": {},
   "outputs": [
    {
     "data": {
      "image/png": "[encoded data removed]",
      "text/plain": [
       "<Figure size 640x480 with 1 Axes>"
      ]
     },
     "metadata": {},
     "output_type": "display_data"
    }
   ],
   "source": [
    "data_0.plot.hist(bins=10, edgecolor='black', alpha=0.7)\n",
    "\n",
    "plt.title(\"Parameters of all oil wells in the region 0\")\n",
    "plt.xlabel(\"Value\")\n",
    "plt.ylabel(\"Frequency\")\n",
    "\n",
    "plt.show()"
   ]
  },
  {
   "cell_type": "code",
   "execution_count": 24,
   "metadata": {},
   "outputs": [
    {
     "data": {
      "image/png": "[encoded data removed]",
      "text/plain": [
       "<Figure size 640x480 with 1 Axes>"
      ]
     },
     "metadata": {},
     "output_type": "display_data"
    }
   ],
   "source": [
    "data_1.plot.hist(bins=10, edgecolor='black', alpha=0.7)\n",
    "\n",
    "plt.title(\"Parameters of all oil wells in the region 1\")\n",
    "plt.xlabel(\"Value\")\n",
    "plt.ylabel(\"Frequency\")\n",
    "\n",
    "plt.show()"
   ]
  },
  {
   "cell_type": "markdown",
   "metadata": {},
   "source": [
    "The graph above includes f0, f1, f2 and product which represent geological data which helps one to predict the wells' behavior, performance, potential oil production in region 1. From this, it can be seen that most of the wells in this region have positive feature points which some have negative feature points which might have resulted in lower volume of reserves in the oil wells in this region. "
   ]
  },
  {
   "cell_type": "code",
   "execution_count": 25,
   "metadata": {},
   "outputs": [
    {
     "data": {
      "image/png": "[encoded data removed]",
      "text/plain": [
       "<Figure size 640x480 with 1 Axes>"
      ]
     },
     "metadata": {},
     "output_type": "display_data"
    }
   ],
   "source": [
    "data_2.plot.hist(bins=10, edgecolor='black', alpha=0.7)\n",
    "\n",
    "plt.title(\"Parameters of all oil wells in the region 2\")\n",
    "plt.xlabel(\"Value\")\n",
    "plt.ylabel(\"Frequency\")\n",
    "\n",
    "plt.show()"
   ]
  },
  {
   "cell_type": "markdown",
   "metadata": {},
   "source": [
    "The graph above includes f0, f1, f2 and product which represent geological data which helps one to predict the wells' behavior, performance, potential oil production in region 2. From this, it can be seen that all the wells in this region have positive feature points due to which most of the wells in this area have highest volume of reserves in the oil wells. "
   ]
  },
  {
   "cell_type": "markdown",
   "metadata": {},
   "source": [
    "<div class=\"alert alert-block alert-warning\">\n",
    "<b>Reviewer's comment</b> <a class=\"tocSkip\"></a>\n",
    "\n",
    "<s>the above step is not that necessary instead plotting the histogram would be better way to move ahead. good efforts\n",
    "\n",
    "</div>"
   ]
  },
  {
   "cell_type": "markdown",
   "metadata": {},
   "source": [
    "## Machine Learning"
   ]
  },
  {
   "cell_type": "code",
   "execution_count": 26,
   "metadata": {},
   "outputs": [
    {
     "name": "stdout",
     "output_type": "stream",
     "text": [
      "id          object\n",
      "f0         float64\n",
      "f1         float64\n",
      "f2         float64\n",
      "product    float64\n",
      "dtype: object\n",
      "id          object\n",
      "f0         float64\n",
      "f1         float64\n",
      "f2         float64\n",
      "product    float64\n",
      "dtype: object\n",
      "id          object\n",
      "f0         float64\n",
      "f1         float64\n",
      "f2         float64\n",
      "product    float64\n",
      "dtype: object\n"
     ]
    }
   ],
   "source": [
    "print(data_0.dtypes)\n",
    "\n",
    "print(data_1.dtypes)\n",
    "\n",
    "print(data_2.dtypes)"
   ]
  },
  {
   "cell_type": "code",
   "execution_count": 27,
   "metadata": {},
   "outputs": [
    {
     "name": "stdout",
     "output_type": "stream",
     "text": [
      "(100000, 4)\n",
      "(100000,)\n"
     ]
    }
   ],
   "source": [
    "features_region_0= data_0.drop(['product'], axis=1)\n",
    "print(features_region_0.shape)\n",
    "\n",
    "target_region_0 = data_0['product']\n",
    "print(target_region_0.shape)"
   ]
  },
  {
   "cell_type": "code",
   "execution_count": 28,
   "metadata": {},
   "outputs": [
    {
     "name": "stdout",
     "output_type": "stream",
     "text": [
      "(100000, 4)\n",
      "(100000,)\n"
     ]
    }
   ],
   "source": [
    "features_region_1 = data_1.drop(['product'], axis=1)\n",
    "print(features_region_1.shape)\n",
    "\n",
    "target_region_1 = data_1['product']\n",
    "print(target_region_1.shape)"
   ]
  },
  {
   "cell_type": "code",
   "execution_count": 29,
   "metadata": {},
   "outputs": [
    {
     "name": "stdout",
     "output_type": "stream",
     "text": [
      "(100000, 4)\n",
      "(100000,)\n"
     ]
    }
   ],
   "source": [
    "features_region_2 = data_2.drop(['product'], axis=1)\n",
    "print(features_region_2.shape)\n",
    "\n",
    "target_region_2 = data_2['product']\n",
    "print(target_region_2.shape) "
   ]
  },
  {
   "cell_type": "code",
   "execution_count": 30,
   "metadata": {},
   "outputs": [],
   "source": [
    "data_0 = data_0.drop(['id'], axis=1)\n",
    "\n",
    "data_1 = data_1.drop(['id'], axis=1)\n",
    "\n",
    "data_2 = data_2.drop(['id'], axis=1)\n"
   ]
  },
  {
   "cell_type": "code",
   "execution_count": 31,
   "metadata": {},
   "outputs": [
    {
     "data": {
      "text/plain": [
       "(75000, 4)"
      ]
     },
     "metadata": {},
     "output_type": "display_data"
    },
    {
     "data": {
      "text/plain": [
       "(25000, 4)"
      ]
     },
     "metadata": {},
     "output_type": "display_data"
    }
   ],
   "source": [
    "region_0_train, region_0_valid = train_test_split(data_0, test_size=0.25, random_state=7)\n",
    "display(region_0_train.shape)\n",
    "display(region_0_valid.shape)"
   ]
  },
  {
   "cell_type": "code",
   "execution_count": 32,
   "metadata": {},
   "outputs": [
    {
     "name": "stdout",
     "output_type": "stream",
     "text": [
      "(75000, 3)\n",
      "(75000,)\n"
     ]
    }
   ],
   "source": [
    "features_region_0_train = region_0_train.drop(['product'], axis=1)\n",
    "print(features_region_0_train.shape)\n",
    "\n",
    "target_region_0_train = region_0_train['product']\n",
    "print(target_region_0_train.shape)"
   ]
  },
  {
   "cell_type": "code",
   "execution_count": 33,
   "metadata": {},
   "outputs": [
    {
     "name": "stdout",
     "output_type": "stream",
     "text": [
      "(25000, 3)\n",
      "(25000,)\n"
     ]
    }
   ],
   "source": [
    "features_region_0_valid = region_0_valid.drop(['product'], axis=1)\n",
    "print(features_region_0_valid .shape)\n",
    "\n",
    "target_region_0_valid = region_0_valid['product']\n",
    "print(target_region_0_valid.shape)"
   ]
  },
  {
   "cell_type": "code",
   "execution_count": 34,
   "metadata": {},
   "outputs": [
    {
     "data": {
      "text/plain": [
       "(75000, 4)"
      ]
     },
     "metadata": {},
     "output_type": "display_data"
    },
    {
     "data": {
      "text/plain": [
       "(25000, 4)"
      ]
     },
     "metadata": {},
     "output_type": "display_data"
    }
   ],
   "source": [
    "region_1_train, region_1_valid = train_test_split(data_1, test_size=0.25, random_state=7)\n",
    "display(region_1_train.shape)\n",
    "display(region_1_valid.shape)"
   ]
  },
  {
   "cell_type": "code",
   "execution_count": 35,
   "metadata": {},
   "outputs": [
    {
     "name": "stdout",
     "output_type": "stream",
     "text": [
      "(75000, 3)\n",
      "(75000,)\n"
     ]
    }
   ],
   "source": [
    "features_region_1_train = region_1_train.drop(['product'], axis=1)\n",
    "print(features_region_1_train.shape)\n",
    "\n",
    "target_region_1_train = region_1_train['product']\n",
    "print(target_region_1_train.shape)"
   ]
  },
  {
   "cell_type": "code",
   "execution_count": 36,
   "metadata": {},
   "outputs": [
    {
     "name": "stdout",
     "output_type": "stream",
     "text": [
      "(25000, 3)\n",
      "(25000,)\n"
     ]
    }
   ],
   "source": [
    "features_region_1_valid = region_1_valid.drop(['product'], axis=1)\n",
    "print(features_region_1_valid.shape)\n",
    "\n",
    "target_region_1_valid = region_1_valid['product']\n",
    "print(target_region_1_valid.shape)"
   ]
  },
  {
   "cell_type": "code",
   "execution_count": 37,
   "metadata": {},
   "outputs": [
    {
     "data": {
      "text/plain": [
       "(75000, 4)"
      ]
     },
     "metadata": {},
     "output_type": "display_data"
    },
    {
     "data": {
      "text/plain": [
       "(25000, 4)"
      ]
     },
     "metadata": {},
     "output_type": "display_data"
    }
   ],
   "source": [
    "region_2_train, region_2_valid = train_test_split(data_2, test_size=0.25, random_state=7)\n",
    "display(region_2_train.shape)\n",
    "display(region_2_valid.shape)"
   ]
  },
  {
   "cell_type": "code",
   "execution_count": 38,
   "metadata": {},
   "outputs": [
    {
     "name": "stdout",
     "output_type": "stream",
     "text": [
      "(75000, 3)\n",
      "(75000,)\n"
     ]
    }
   ],
   "source": [
    "features_region_2_train = region_2_train.drop(['product'], axis=1)\n",
    "print(features_region_2_train.shape)\n",
    "\n",
    "target_region_2_train = region_2_train['product']\n",
    "print(target_region_2_train.shape)"
   ]
  },
  {
   "cell_type": "code",
   "execution_count": 39,
   "metadata": {},
   "outputs": [
    {
     "name": "stdout",
     "output_type": "stream",
     "text": [
      "(25000, 3)\n",
      "(25000,)\n"
     ]
    }
   ],
   "source": [
    "features_region_2_valid = region_2_valid.drop(['product'], axis=1)\n",
    "print(features_region_2_valid.shape)\n",
    "\n",
    "target_region_2_valid = region_2_valid['product']\n",
    "print(target_region_2_valid.shape)"
   ]
  },
  {
   "cell_type": "code",
   "execution_count": 40,
   "metadata": {},
   "outputs": [
    {
     "name": "stdout",
     "output_type": "stream",
     "text": [
      "Average volume of the linear regression model on the region 0 validation set: 92.50122097236377\n",
      "RMSE of the linear regression model on the region 0 validation set: 37.61698862149409\n"
     ]
    }
   ],
   "source": [
    "model = LinearRegression() \n",
    "model.fit(features_region_0_train, target_region_0_train)\n",
    "predictions_region_0_valid = model.predict(features_region_0_valid)\n",
    "\n",
    "avg_volume_region_0 = predictions_region_0_valid.mean()\n",
    "print(\"Average volume of the linear regression model on the region 0 validation set:\", avg_volume_region_0)\n",
    "\n",
    "rmse_region_0 = mean_squared_error(target_region_0_valid, predictions_region_0_valid) ** 0.5 \n",
    "print(\"RMSE of the linear regression model on the region 0 validation set:\", rmse_region_0)\n",
    "\n",
    "region_0 = pd.DataFrame({\n",
    "    'predictions': predictions_region_0_valid,\n",
    "    'target': target_region_0_valid})\n"
   ]
  },
  {
   "cell_type": "markdown",
   "metadata": {},
   "source": [
    "Using the above Linear Regression model, average model on the region 0 validation set is 92.5 while RMSE is 37.6. The RMSE value of 37.62 indicates that on average the model's predictions deviate by 37,620 barrels from the actual values in the validation set. "
   ]
  },
  {
   "cell_type": "code",
   "execution_count": 41,
   "metadata": {},
   "outputs": [
    {
     "name": "stdout",
     "output_type": "stream",
     "text": [
      "Average volume of the linear regression model on the region 1 validation set: 68.81713795297324\n",
      "RMSE of the linear regression model on the region 1 validation set: 0.8901574284390851\n"
     ]
    }
   ],
   "source": [
    "model = LinearRegression() \n",
    "model.fit(features_region_1_train, target_region_1_train)\n",
    "predictions_region_1_valid = model.predict(features_region_1_valid)\n",
    "\n",
    "avg_volume_region_1 = predictions_region_1_valid.mean()\n",
    "print(\"Average volume of the linear regression model on the region 1 validation set:\", avg_volume_region_1)\n",
    "\n",
    "rmse_region_1 = mean_squared_error(target_region_1_valid, predictions_region_1_valid) ** 0.5 \n",
    "print(\"RMSE of the linear regression model on the region 1 validation set:\", rmse_region_1)\n",
    "\n",
    "region_1 = pd.DataFrame({\n",
    "    'predictions': predictions_region_1_valid,\n",
    "    'target': target_region_1_valid})\n"
   ]
  },
  {
   "cell_type": "markdown",
   "metadata": {},
   "source": [
    "Using the above Linear Regression model, average model on the region 1 validation set is 68.8 while RMSE is 0.89. This indicates a better-performing model compared to that of region 0 and region 2. Low RMSE suggests that the linear regression model is highly accurate for predicting the oil reserved in the region 1 validation set. The RMSE value of 0.89 indicates that on average the model's predictions deviate by 890 barrels from the actual values in the validation set. Comparing RMSE to that of region 0 and 2, this is a small error, making the model suitable for practical applications requiring precise predictions. "
   ]
  },
  {
   "cell_type": "markdown",
   "metadata": {},
   "source": [
    "<div class=\"alert alert-block alert-success\">\n",
    "<b>Reviewer's comment</b> <a class=\"tocSkip\"></a>\n",
    "\n",
    "Good job\n",
    "    \n",
    "</div>"
   ]
  },
  {
   "cell_type": "code",
   "execution_count": 42,
   "metadata": {},
   "outputs": [
    {
     "name": "stdout",
     "output_type": "stream",
     "text": [
      "Average volume of the linear regression model on the region 2 validation set: 94.82396409311703\n",
      "RMSE of the linear regression model on the region 2 validation set: 39.926127352654355\n"
     ]
    }
   ],
   "source": [
    "model = LinearRegression() \n",
    "model.fit(features_region_2_train, target_region_2_train)\n",
    "predictions_region_2_valid = model.predict(features_region_2_valid)\n",
    "\n",
    "avg_volume_region_2 = predictions_region_2_valid.mean()\n",
    "print(\"Average volume of the linear regression model on the region 2 validation set:\", avg_volume_region_2)\n",
    "\n",
    "rmse_region_2 = mean_squared_error(target_region_2_valid, predictions_region_2_valid) ** 0.5 \n",
    "print(\"RMSE of the linear regression model on the region 2 validation set:\", rmse_region_2)\n",
    "\n",
    "region_2 = pd.DataFrame({\n",
    "    'predictions': predictions_region_2_valid,\n",
    "    'target': target_region_2_valid})\n"
   ]
  },
  {
   "cell_type": "markdown",
   "metadata": {},
   "source": [
    "Using the above Linear Regression model, average model on the region 2 validation set is 94.8 while RMSE is 39.9. The RMSE value of 39.92 indicates that on average the model's predictions deviate by 39,926 barrels from the actual values in the validation set. The average volume on the region 2 validation set is 94.82 shows that the error is substantial, making the model's predictions unreliable for precise estimation. "
   ]
  },
  {
   "cell_type": "markdown",
   "metadata": {},
   "source": [
    "<div class=\"alert alert-block alert-success\">\n",
    "<b>Reviewer's comment</b> <a class=\"tocSkip\"></a>\n",
    "\n",
    "Good job\n",
    "    \n",
    "</div>"
   ]
  },
  {
   "cell_type": "markdown",
   "metadata": {},
   "source": [
    "<div class=\"alert alert-block alert-warning\">\n",
    "<b>Reviewer's comment</b> <a class=\"tocSkip\"></a>\n",
    "\n",
    "Remarks. Some recommendations.\n",
    "\n",
    "\n",
    "\n",
    "for the traintest split and the model building you are doing repeated work which is less efficient you can use the for loop and do train test split and model training without having to do it saperately each time see the example here :\n",
    "\n",
    "for region in range(len(data_all))\n",
    "    \n",
    "</div>"
   ]
  },
  {
   "cell_type": "code",
   "execution_count": 43,
   "metadata": {},
   "outputs": [
    {
     "data": {
      "text/plain": [
       "68.81713795297324"
      ]
     },
     "metadata": {},
     "output_type": "display_data"
    },
    {
     "data": {
      "text/plain": [
       "94.82396409311703"
      ]
     },
     "metadata": {},
     "output_type": "display_data"
    }
   ],
   "source": [
    "display(avg_volume_region_1, avg_volume_region_2)"
   ]
  },
  {
   "cell_type": "code",
   "execution_count": 44,
   "metadata": {},
   "outputs": [
    {
     "data": {
      "text/plain": [
       "500000.0"
      ]
     },
     "metadata": {},
     "output_type": "display_data"
    }
   ],
   "source": [
    "# Store all key values for calculations in separate variables. \n",
    "\n",
    "budget = 100000000\n",
    "revenue_per_barrel = 4.5\n",
    "wells_to_develop = 200 \n",
    "revenue_per_thousand_barrels = revenue_per_barrel * 1000\n",
    "max_risk_percentage = 2.5 \n",
    "cost_per_well = budget / wells_to_develop\n",
    "display(cost_per_well)"
   ]
  },
  {
   "cell_type": "code",
   "execution_count": 45,
   "metadata": {},
   "outputs": [
    {
     "name": "stdout",
     "output_type": "stream",
     "text": [
      "111.11111111111111\n"
     ]
    }
   ],
   "source": [
    "# Calculate the volume of reserves sufficient for developing a new well without losses. Compete the obtained value with the average volume of reserves in each region. \n",
    "\n",
    "sufficient_volume_of_reserves = cost_per_well / revenue_per_thousand_barrels\n",
    "print(sufficient_volume_of_reserves)"
   ]
  },
  {
   "cell_type": "markdown",
   "metadata": {},
   "source": [
    "<div class=\"alert alert-block alert-success\">\n",
    "<b>Reviewer's comment</b> <a class=\"tocSkip\"></a>\n",
    "\n",
    "good job finding amount of product for 0  profit \n",
    "\n",
    "    \n",
    "</div>"
   ]
  },
  {
   "cell_type": "code",
   "execution_count": 46,
   "metadata": {},
   "outputs": [
    {
     "name": "stdout",
     "output_type": "stream",
     "text": [
      "Region 1 is profitable: False\n",
      "Region 2 is profitable: False\n",
      "Region 3 is profitable: False\n"
     ]
    }
   ],
   "source": [
    "# Provide the findings about the preparation for profit calculation step.\n",
    "\n",
    "print(\"Region 1 is profitable:\", avg_volume_region_0 > sufficient_volume_of_reserves)\n",
    "\n",
    "print(\"Region 2 is profitable:\", avg_volume_region_1 > sufficient_volume_of_reserves)\n",
    "\n",
    "print(\"Region 3 is profitable:\", avg_volume_region_2 > sufficient_volume_of_reserves)"
   ]
  },
  {
   "cell_type": "markdown",
   "metadata": {},
   "source": [
    "111 thousand barrels volume of reserves are sufficient for developing a new well without losses in any regions. For region 0, region 1, region 2, the average volume of reserves is 92.5, 68.81, and 94.82 respectively. It shows that the average volume of reserves among all regions is less than the volume of reserves sufficient for developing a new well without losses. This shows that on average developing new wells in all regions would result in losses. "
   ]
  },
  {
   "cell_type": "code",
   "execution_count": 47,
   "metadata": {},
   "outputs": [
    {
     "name": "stdout",
     "output_type": "stream",
     "text": [
      "       predictions      target\n",
      "93073   180.092092  162.810993\n",
      "43388   175.565425   96.893581\n",
      "22500   175.491569  155.212534\n",
      "42379   170.800948  159.784912\n",
      "34331   168.607779  184.660576\n",
      "...            ...         ...\n",
      "32867    13.999132   87.491866\n",
      "46299    12.718466   32.109446\n",
      "88683    10.254308   49.374929\n",
      "44754    10.131067   40.181343\n",
      "36172     8.757170   25.956984\n",
      "\n",
      "[25000 rows x 2 columns]\n"
     ]
    }
   ],
   "source": [
    "# Pick the wells with the highest values of predictions. \n",
    "\n",
    "highest_predictions_region_0  = region_0.sort_values(by='predictions', ascending=False)\n",
    "print(highest_predictions_region_0)"
   ]
  },
  {
   "cell_type": "code",
   "execution_count": 48,
   "metadata": {},
   "outputs": [
    {
     "name": "stdout",
     "output_type": "stream",
     "text": [
      "       predictions      target\n",
      "42738   139.837429  137.945408\n",
      "38665   139.803512  137.945408\n",
      "35200   139.624082  137.945408\n",
      "84991   139.580873  137.945408\n",
      "75153   139.500468  137.945408\n",
      "...            ...         ...\n",
      "56204    -1.543396    0.000000\n",
      "38735    -1.593265    0.000000\n",
      "21570    -1.624423    0.000000\n",
      "68772    -1.638819    0.000000\n",
      "1411     -1.876202    0.000000\n",
      "\n",
      "[25000 rows x 2 columns]\n"
     ]
    }
   ],
   "source": [
    "highest_predictions_region_1  = region_1.sort_values(by='predictions', ascending=False)\n",
    "print(highest_predictions_region_1)"
   ]
  },
  {
   "cell_type": "code",
   "execution_count": 49,
   "metadata": {},
   "outputs": [
    {
     "name": "stdout",
     "output_type": "stream",
     "text": [
      "       predictions      target\n",
      "6647    173.893280  152.294162\n",
      "84047   169.674601  151.655778\n",
      "84970   165.499300  125.130392\n",
      "89165   164.511282   97.775979\n",
      "64380   163.797707  122.460897\n",
      "...            ...         ...\n",
      "19674    27.631064   63.290753\n",
      "95066    22.043818   39.244130\n",
      "36323    20.088333   60.244891\n",
      "38979    19.580602   62.300286\n",
      "95257    16.586544   21.727508\n",
      "\n",
      "[25000 rows x 2 columns]\n"
     ]
    }
   ],
   "source": [
    "highest_predictions_region_2  = region_2.sort_values(by='predictions', ascending=False)\n",
    "print(highest_predictions_region_2)\n"
   ]
  },
  {
   "cell_type": "code",
   "execution_count": 50,
   "metadata": {},
   "outputs": [
    {
     "data": {
      "text/plain": [
       "93073    162.810993\n",
       "43388     96.893581\n",
       "22500    155.212534\n",
       "42379    159.784912\n",
       "34331    184.660576\n",
       "Name: target, dtype: float64"
      ]
     },
     "metadata": {},
     "output_type": "display_data"
    },
    {
     "data": {
      "text/plain": [
       "42738    137.945408\n",
       "38665    137.945408\n",
       "35200    137.945408\n",
       "84991    137.945408\n",
       "75153    137.945408\n",
       "Name: target, dtype: float64"
      ]
     },
     "metadata": {},
     "output_type": "display_data"
    },
    {
     "data": {
      "text/plain": [
       "6647     152.294162\n",
       "84047    151.655778\n",
       "84970    125.130392\n",
       "89165     97.775979\n",
       "64380    122.460897\n",
       "Name: target, dtype: float64"
      ]
     },
     "metadata": {},
     "output_type": "display_data"
    }
   ],
   "source": [
    "# Summarize the target volume of reserves in accordance with these predictions\n",
    "\n",
    "highest_predictions_target_region_0 = highest_predictions_region_0['target']\n",
    "display(highest_predictions_target_region_0.head(5))\n",
    "\n",
    "highest_predictions_target_region_1 = highest_predictions_region_1['target']\n",
    "display(highest_predictions_target_region_1.head(5))\n",
    "\n",
    "\n",
    "highest_predictions_target_region_2 = highest_predictions_region_2['target']\n",
    "display(highest_predictions_target_region_2.head(5))\n"
   ]
  },
  {
   "cell_type": "markdown",
   "metadata": {},
   "source": [
    "111 thousand barrels volume of reserves are sufficient for developing a new well without losses in any regions. Among all 3 regions, region 3's average volume of reserve is 94.82 which is closest to the volume of reserves sufficient for developing a new well without losses. Alzxong with it, predictions and target are closest and higher than 111 thousand barrels. Due to this, I think region 2 is best for oil wells' development among all three regions. "
   ]
  },
  {
   "cell_type": "markdown",
   "metadata": {},
   "source": [
    "<div class=\"alert alert-block alert-warning\">\n",
    "<b>Reviewer's comment</b> <a class=\"tocSkip\"></a>\n",
    "\n",
    "~~Please try to provide the reasoning as well as with some details to the findings~~\n",
    "\n",
    "</div>"
   ]
  },
  {
   "cell_type": "code",
   "execution_count": 51,
   "metadata": {},
   "outputs": [
    {
     "name": "stdout",
     "output_type": "stream",
     "text": [
      "       predictions      target        revenue\n",
      "93073   180.092092  162.810993  732649.466640\n",
      "43388   175.565425   96.893581  436021.112931\n",
      "22500   175.491569  155.212534  698456.404104\n",
      "42379   170.800948  159.784912  719032.102265\n",
      "34331   168.607779  184.660576  830972.592679\n",
      "...            ...         ...            ...\n",
      "32867    13.999132   87.491866  393713.398012\n",
      "46299    12.718466   32.109446  144492.506588\n",
      "88683    10.254308   49.374929  222187.182513\n",
      "44754    10.131067   40.181343  180816.044396\n",
      "36172     8.757170   25.956984  116806.427489\n",
      "\n",
      "[25000 rows x 3 columns]\n"
     ]
    }
   ],
   "source": [
    "# Calculate the profit for the obtained volume of reserves.\n",
    "\n",
    "revenue_region_0 = highest_predictions_region_0['target'] * 4500\n",
    "\n",
    "region_0_cal = pd.DataFrame({\n",
    "    'predictions': highest_predictions_region_0['predictions'],\n",
    "    'target': highest_predictions_region_0['target'],\n",
    "    'revenue': revenue_region_0})\n",
    "print(region_0_cal)"
   ]
  },
  {
   "cell_type": "code",
   "execution_count": 52,
   "metadata": {},
   "outputs": [
    {
     "name": "stdout",
     "output_type": "stream",
     "text": [
      "       predictions      target        revenue\n",
      "42738   139.837429  137.945408  620754.334834\n",
      "38665   139.803512  137.945408  620754.334834\n",
      "35200   139.624082  137.945408  620754.334834\n",
      "84991   139.580873  137.945408  620754.334834\n",
      "75153   139.500468  137.945408  620754.334834\n",
      "...            ...         ...            ...\n",
      "56204    -1.543396    0.000000       0.000000\n",
      "38735    -1.593265    0.000000       0.000000\n",
      "21570    -1.624423    0.000000       0.000000\n",
      "68772    -1.638819    0.000000       0.000000\n",
      "1411     -1.876202    0.000000       0.000000\n",
      "\n",
      "[25000 rows x 3 columns]\n"
     ]
    }
   ],
   "source": [
    "revenue_region_1 = highest_predictions_region_1['target'] * 4500\n",
    "\n",
    "region_1_cal = pd.DataFrame({\n",
    "    'predictions': highest_predictions_region_1['predictions'],\n",
    "    'target': highest_predictions_region_1['target'],\n",
    "    'revenue': revenue_region_1})\n",
    "print(region_1_cal)"
   ]
  },
  {
   "cell_type": "code",
   "execution_count": 53,
   "metadata": {},
   "outputs": [
    {
     "name": "stdout",
     "output_type": "stream",
     "text": [
      "       predictions      target        revenue\n",
      "6647    173.893280  152.294162  685323.726905\n",
      "84047   169.674601  151.655778  682450.999336\n",
      "84970   165.499300  125.130392  563086.762336\n",
      "89165   164.511282   97.775979  439991.906038\n",
      "64380   163.797707  122.460897  551074.034902\n",
      "...            ...         ...            ...\n",
      "19674    27.631064   63.290753  284808.390017\n",
      "95066    22.043818   39.244130  176598.584763\n",
      "36323    20.088333   60.244891  271102.007803\n",
      "38979    19.580602   62.300286  280351.285046\n",
      "95257    16.586544   21.727508   97773.786184\n",
      "\n",
      "[25000 rows x 3 columns]\n"
     ]
    }
   ],
   "source": [
    "revenue_region_2 = highest_predictions_region_2['target'] * 4500\n",
    "\n",
    "region_2_cal = pd.DataFrame({\n",
    "    'predictions': highest_predictions_region_2['predictions'],\n",
    "    'target': highest_predictions_region_2['target'],\n",
    "    'revenue': revenue_region_2})\n",
    "print(region_2_cal)"
   ]
  },
  {
   "cell_type": "markdown",
   "metadata": {},
   "source": [
    "Based on the revenue of each oil wells among all three regions, there are some oil wells which have the highest revenue among all three regions. Along with this, in region 1 there are oil wells which have no revenue. "
   ]
  },
  {
   "cell_type": "code",
   "execution_count": 54,
   "metadata": {},
   "outputs": [
    {
     "name": "stdout",
     "output_type": "stream",
     "text": [
      "200\n"
     ]
    }
   ],
   "source": [
    "budget = 1000000\n",
    "cost_per_point = 5000\n",
    "points_per_budget = budget // cost_per_point \n",
    "print(points_per_budget)\n",
    "product_price = 45"
   ]
  },
  {
   "cell_type": "code",
   "execution_count": 55,
   "metadata": {},
   "outputs": [],
   "source": [
    "def profit(target, predictions):\n",
    "    predictions_sorted = predictions.sort_values(ascending=False)\n",
    "    selected_points = target[predictions_sorted.index][:points_per_budget]\n",
    "    product = selected_points.sum()\n",
    "    revenue = product * product_price\n",
    "    cost = budget\n",
    "    return revenue - cost "
   ]
  },
  {
   "cell_type": "markdown",
   "metadata": {},
   "source": [
    "<div class=\"alert alert-block alert-warning\">\n",
    "<b>Reviewer's comment</b> <a class=\"tocSkip\"></a>\n",
    "\n",
    "#All amounts are divided by 100 for easier operations\n",
    "\n",
    "BUDGET = 1000000\n",
    "COST_PER_POINT = 5000\n",
    "POINTS_PER_BUDGET = BUDGET // COST_PER_POINT\n",
    "\n",
    "PRODUCT_PRICE = 45  This will help you find the point per budget which is 200 use this to make it a bit less work \n",
    "\n",
    "    \n",
    "given below is the full code to get the better idea about this \n",
    "    \n",
    " \n",
    "#All amounts are divided by 100 for easier operations\n",
    "\n",
    "BUDGET = 1000000\n",
    "COST_PER_POINT = 5000\n",
    "POINTS_PER_BUDGET = BUDGET // COST_PER_POINT\n",
    "\n",
    "PRODUCT_PRICE = 45\n",
    "\n",
    "def profit(target, predictions):\n",
    "    predictions_sorted = predictions.sort_values(ascending=False)\n",
    "    selected_points = target[predictions_sorted.index][:POINTS_PER_BUDGET]\n",
    "    product = selected_points.sum()\n",
    "    revenue = product * PRODUCT_PRICE\n",
    "    cost = BUDGET\n",
    "    return revenue - cost\n",
    "</div>\n",
    "\n"
   ]
  },
  {
   "cell_type": "markdown",
   "metadata": {},
   "source": [
    "<div class=\"alert alert-block alert-danger\"> <b> Reviewer's Comment</b>\n",
    "    \n",
    "    \n",
    "   yes <s>Here we need to choose best 200 points out of 500 for the profit function. So Please write a function for profit here using the hint \n",
    "</div>"
   ]
  },
  {
   "cell_type": "markdown",
   "metadata": {},
   "source": [
    "<div class=\"alert alert-info\"> <b> Student comment: </b> Did I fixed the problem you were telling me about </div>"
   ]
  },
  {
   "cell_type": "code",
   "execution_count": 56,
   "metadata": {
    "scrolled": true
   },
   "outputs": [],
   "source": [
    "# Use the bootstrapping technique with 1000 samples to find the distribution of profit. Find average profit, 95% confidence interval and risk of losses. Loss is negative profit, calculate it as a probability and then express as a percentage.\n",
    "\n",
    "state = np.random.RandomState(7)\n",
    "\n",
    "# print(pred_target_region0)  # (25000, 2) y_pred target\n",
    "\n",
    "pred = region_0_cal['predictions']\n",
    "target = region_0_cal['target']\n",
    "\n",
    "# bootstrap\n",
    "\n",
    "profits = []\n",
    "for i in range(1000):\n",
    "    target_subsample = target.sample(n=500, replace=True, random_state=state)\n",
    "    pred_subsample = pred[target_subsample.index]\n",
    "\n",
    "    profit_value = profit(target_subsample, pred_subsample)\n",
    "    profits.append(profit_value)\n"
   ]
  },
  {
   "cell_type": "code",
   "execution_count": 57,
   "metadata": {},
   "outputs": [
    {
     "name": "stdout",
     "output_type": "stream",
     "text": [
      "Average Profit: 46783.54\n",
      "95% Confidence Interval: [-7319.53, 103363.57]\n",
      "Risk of Losses: 4.50%\n"
     ]
    }
   ],
   "source": [
    "# Calculate average profit, confidence interval, and risk of losses\n",
    "\n",
    "profits = pd.Series(profits)\n",
    "\n",
    "average_profit = profits.mean()\n",
    "lower = profits.quantile(0.025)\n",
    "upper = profits.quantile(0.975)\n",
    "risk_of_losses = (profits < 0).mean() * 100\n",
    "\n",
    "print(f\"Average Profit: {average_profit:.2f}\")\n",
    "print(f\"95% Confidence Interval: [{lower:.2f}, {upper:.2f}]\")\n",
    "print(f\"Risk of Losses: {risk_of_losses:.2f}%\")"
   ]
  },
  {
   "cell_type": "markdown",
   "metadata": {},
   "source": [
    "Above output provides important insights about the potential profit and risks associated with developing oil wells in a region 0 using bootstrapping. Average Profit is 4678354.27 dollars which shows that on average it is expected to generate $4.68 million in profit per region and as its positive, it suggests that the investment is likely profitable. The confidence interval (CI) represents the range of possible profits for 95% of bootstrap samples. The lower bound (−7.31 million) indicates that there is a 2.5% chance the profit will be less than this. The upper bound (10.3 million) indicates that there is a 2.5% chance the profit will exceed this. While the upper bound is promising, the fact that the lower bound is negative indicates that losses are possible in some scenarios. This suggests there is some uncertainty in the profitability of this project. There is a 4.50% chance that developing wells in this region will result in a financial loss. While the risk of loss is not extremely high, it is not negligible either. This indicates a moderate level of risk.\n"
   ]
  },
  {
   "cell_type": "code",
   "execution_count": 58,
   "metadata": {},
   "outputs": [],
   "source": [
    "# Use the bootstrapping technique with 1000 samples to find the distribution of profit. Find average profit, 95% confidence interval and risk of losses. Loss is negative profit, calculate it as a probability and then express as a percentage.\n",
    "\n",
    "state = np.random.RandomState(7)\n",
    "\n",
    "# print(pred_target_region0)  # (25000, 2) y_pred target\n",
    "\n",
    "pred = region_1_cal['predictions']\n",
    "target = region_1_cal['target']\n",
    "\n",
    "# bootstrap\n",
    "\n",
    "profits = []\n",
    "for i in range(1000):\n",
    "    target_subsample = target.sample(n=500, replace=True, random_state=state)\n",
    "    pred_subsample = pred[target_subsample.index]\n",
    "\n",
    "    profit_value = profit(target_subsample, pred_subsample)\n",
    "    profits.append(profit_value)\n"
   ]
  },
  {
   "cell_type": "code",
   "execution_count": 59,
   "metadata": {},
   "outputs": [
    {
     "name": "stdout",
     "output_type": "stream",
     "text": [
      "Average Profit: 50669.09\n",
      "95% Confidence Interval: [8954.22, 91653.41]\n",
      "Risk of Losses: 1.60%\n"
     ]
    }
   ],
   "source": [
    "# Calculate average profit, confidence interval, and risk of losses\n",
    "\n",
    "profits = pd.Series(profits)\n",
    "\n",
    "average_profit = profits.mean()\n",
    "lower = profits.quantile(0.025)\n",
    "upper = profits.quantile(0.975)\n",
    "risk_of_losses = (profits < 0).mean() * 100\n",
    "\n",
    "print(f\"Average Profit: {average_profit:.2f}\")\n",
    "print(f\"95% Confidence Interval: [{lower:.2f}, {upper:.2f}]\")\n",
    "print(f\"Risk of Losses: {risk_of_losses:.2f}%\")"
   ]
  },
  {
   "cell_type": "markdown",
   "metadata": {},
   "source": [
    "Above output provides important insights about the potential profit and risks associated with developing oil wells in a region 1 using bootstrapping. Average Profit is 5066909.47 dollars which shows that on average it is expected to generate $5.07 million in profit per region and as its positive, it suggests that the investment is likely profitable. The confidence interval (CI) represents the range of possible profits for 95% of bootstrap samples. The lower bound (8.95 million) indicates that there is a 2.5% chance the profit will be less than this. The upper bound (9.17 million) indicates that there is a 2.5% chance the profit will exceed this. While the upper bound is promising, the fact that the lower bound is negative indicates that losses are possible in some scenarios. This suggests there is some uncertainty in the profitability of this project. There is a 1.60% chance that developing wells in this region will result in a financial loss. While the risk of loss is not high and less than that of region 0 and 2, it indicates that the project is much less risky so more appealing to inverstors or stakeholders. \n"
   ]
  },
  {
   "cell_type": "markdown",
   "metadata": {},
   "source": [
    "<div class=\"alert alert-block alert-danger\">\n",
    "<b>Reviewer's comment</b> <a class=\"tocSkip\"></a>\n",
    "\n",
    "<s>risk of loss value is not correct please find the issue in the code \n",
    "\n",
    "</div>"
   ]
  },
  {
   "cell_type": "code",
   "execution_count": 60,
   "metadata": {
    "scrolled": true
   },
   "outputs": [],
   "source": [
    "# Use the bootstrapping technique with 1000 samples to find the distribution of profit. Find average profit, 95% confidence interval and risk of losses. Loss is negative profit, calculate it as a probability and then express as a percentage.\n",
    "\n",
    "state = np.random.RandomState(7)\n",
    "\n",
    "# print(pred_target_region0)  # (25000, 2) y_pred target\n",
    "\n",
    "pred = region_2_cal['predictions']\n",
    "target = region_2_cal['target']\n",
    "\n",
    "# bootstrap\n",
    "\n",
    "profits = []\n",
    "for i in range(1000):\n",
    "    target_subsample = target.sample(n=500, replace=True, random_state=state)\n",
    "    pred_subsample = pred[target_subsample.index]\n",
    "\n",
    "    profit_value = profit(target_subsample, pred_subsample)\n",
    "    profits.append(profit_value)\n",
    "    "
   ]
  },
  {
   "cell_type": "code",
   "execution_count": 61,
   "metadata": {},
   "outputs": [
    {
     "name": "stdout",
     "output_type": "stream",
     "text": [
      "Average Profit: 37742.26\n",
      "95% Confidence Interval: [-16096.88, 92215.40]\n",
      "Risk of Losses: 9.40%\n"
     ]
    }
   ],
   "source": [
    "# Calculate average profit, confidence interval, and risk of losses\n",
    "\n",
    "profits = pd.Series(profits)\n",
    "\n",
    "average_profit = profits.mean()\n",
    "lower = profits.quantile(0.025)\n",
    "upper = profits.quantile(0.975)\n",
    "risk_of_losses = (profits < 0).mean() * 100\n",
    "\n",
    "print(f\"Average Profit: {average_profit:.2f}\")\n",
    "print(f\"95% Confidence Interval: [{lower:.2f}, {upper:.2f}]\")\n",
    "print(f\"Risk of Losses: {risk_of_losses:.2f}%\")"
   ]
  },
  {
   "cell_type": "markdown",
   "metadata": {},
   "source": [
    "Above output provides important insights about the potential profit and risks associated with developing oil wells in a region 0 using bootstrapping. Average Profit is 3774226.29 dollars which shows that on average it is expected to generate $3.77 million in profit per region and as its positive, it suggests that the investment is likely profitable. The confidence interval (CI) represents the range of possible profits for 95% of bootstrap samples. The lower bound (−1.61 million) indicates that there is a 2.5% chance the profit will be less than this. The upper bound (9.22 million) indicates that there is a 2.5% chance the profit will exceed this. While the upper bound is promising, the fact that the lower bound is negative indicates that losses are possible in some scenarios. This suggests there is some uncertainty in the profitability of this project. There is a 9.4% chance that developing wells in this region will result in a financial loss. While the risk of loss is high among all three regions, region 2 is less appealing to investors or stakeholders and thus, investors are less likely to invest in region 2 compared to other two regions. "
   ]
  },
  {
   "cell_type": "markdown",
   "metadata": {},
   "source": [
    "<div class=\"alert alert-block alert-danger\">\n",
    "<b>Reviewer's comment</b> <a class=\"tocSkip\"></a>\n",
    "\n",
    "~~risk of loss value is not correct please find the issue in the code~~ \n",
    "\n",
    "</div>"
   ]
  },
  {
   "cell_type": "markdown",
   "metadata": {},
   "source": [
    "<div class=\"alert alert-block alert-danger\">\n",
    "<b>Reviewer's comment</b> <a class=\"tocSkip\"></a>\n",
    "<s>Without finding the correct number for the risk of loss reaching the conclusion is not appropreate please try finding the mistakes and      recalculate the % risk of loss and then provide the conlusion.~~\n",
    "</div>"
   ]
  },
  {
   "cell_type": "markdown",
   "metadata": {},
   "source": [
    "Among all three regions, region 1 has 1.6% chance that developing wells in this region will result in a financial loss which is lower than that of region 0 and 2. Along with this, region 0 and region 2 have negative lower bound this shows that there is a 2.5% chance that the profit will be a negative number which is loss. While that of region 1 is positive number suggesting that there is less chance that developing wells in region will result in a financial loss. So, I think region 1 is good for development of oil wells among all three regions. "
   ]
  },
  {
   "cell_type": "markdown",
   "metadata": {},
   "source": [
    "## Conclusion"
   ]
  },
  {
   "cell_type": "markdown",
   "metadata": {},
   "source": [
    "The project is to find the best place for a new well for the OilyGiant mining company using the data on oil samples from three regions. To achieve this goal, different oil well parameters in the selected region are collected. Using those parameters, a model was build to predict the volume of reserves in the new wells. Lastly, after predicting the volume of reserves in the new wells, the oil wells with the highest estimated values and the region with the highest profit margin for the selected oil wells along with risks using the Bootstrapping technique were picked.\n",
    "\n",
    " Using the above Linear Regression model, average model on the region 1 validation set is 68.8 while RMSE is 0.89. This indicates a better-performing model compared to that of region 0 and region 2. Low RMSE suggests that the linear regression model is highly accurate for predicting the oil reserved in the region 1 validation set. The RMSE value of 0.89 indicates that on average the model's predictions deviate by 890 barrels from the actual values in the validation set. Comparing RMSE to that of region 0 and 2, this is a small error, making the model suitable for practical applications requiring precise predictions. Following this bootstrapping technique was done to determine which region is the best for a new well. Along all these regions as region 1 has only 1.6% risk of loss which is much lower than that of other two regions. Also region 1 doesn't have a negative lower bound which other two regions have making it less appealing to investors or stakeholders. Thus, region 1 is the best place for a new well for the OilyGiant mining company. "
   ]
  },
  {
   "cell_type": "markdown",
   "metadata": {},
   "source": [
    "<div class=\"alert alert-block alert-success\">\n",
    "<b>Reviewer's comment</b> <a class=\"tocSkip\"></a>\n",
    "Great Work!\n",
    "</div>"
   ]
  }
 ],
 "metadata": {
  "ExecuteTimeLog": [
   {
    "duration": 477,
    "start_time": "2024-12-31T00:44:20.469Z"
   },
   {
    "duration": 325,
    "start_time": "2024-12-31T00:46:08.849Z"
   },
   {
    "duration": 831,
    "start_time": "2025-01-03T09:39:37.280Z"
   },
   {
    "duration": 194,
    "start_time": "2025-01-03T09:39:38.113Z"
   },
   {
    "duration": 215,
    "start_time": "2025-01-03T09:39:38.309Z"
   },
   {
    "duration": 11,
    "start_time": "2025-01-03T09:39:38.526Z"
   },
   {
    "duration": 7,
    "start_time": "2025-01-03T09:39:38.538Z"
   },
   {
    "duration": 7,
    "start_time": "2025-01-03T09:39:38.546Z"
   },
   {
    "duration": 4,
    "start_time": "2025-01-03T09:39:38.554Z"
   },
   {
    "duration": 3,
    "start_time": "2025-01-03T09:39:38.560Z"
   },
   {
    "duration": 4,
    "start_time": "2025-01-03T09:39:38.564Z"
   },
   {
    "duration": 10,
    "start_time": "2025-01-03T09:39:38.572Z"
   },
   {
    "duration": 48,
    "start_time": "2025-01-03T09:39:38.584Z"
   },
   {
    "duration": 10,
    "start_time": "2025-01-03T09:39:38.634Z"
   },
   {
    "duration": 26,
    "start_time": "2025-01-03T09:39:38.645Z"
   },
   {
    "duration": 25,
    "start_time": "2025-01-03T09:39:38.672Z"
   },
   {
    "duration": 24,
    "start_time": "2025-01-03T09:39:38.723Z"
   },
   {
    "duration": 31,
    "start_time": "2025-01-03T09:39:38.748Z"
   },
   {
    "duration": 45,
    "start_time": "2025-01-03T09:39:38.781Z"
   },
   {
    "duration": 34,
    "start_time": "2025-01-03T09:39:38.828Z"
   },
   {
    "duration": 14,
    "start_time": "2025-01-03T09:39:38.863Z"
   },
   {
    "duration": 14,
    "start_time": "2025-01-03T09:39:38.878Z"
   },
   {
    "duration": 39,
    "start_time": "2025-01-03T09:39:38.893Z"
   },
   {
    "duration": 24,
    "start_time": "2025-01-03T09:39:38.934Z"
   },
   {
    "duration": 20,
    "start_time": "2025-01-03T09:39:38.960Z"
   },
   {
    "duration": 46,
    "start_time": "2025-01-03T09:39:38.981Z"
   },
   {
    "duration": 7,
    "start_time": "2025-01-03T09:39:39.028Z"
   },
   {
    "duration": 7,
    "start_time": "2025-01-03T09:39:39.038Z"
   },
   {
    "duration": 7,
    "start_time": "2025-01-03T09:39:39.047Z"
   },
   {
    "duration": 5,
    "start_time": "2025-01-03T09:39:39.059Z"
   },
   {
    "duration": 6,
    "start_time": "2025-01-03T09:39:39.065Z"
   },
   {
    "duration": 6,
    "start_time": "2025-01-03T09:39:39.072Z"
   },
   {
    "duration": 49,
    "start_time": "2025-01-03T09:39:39.080Z"
   },
   {
    "duration": 11,
    "start_time": "2025-01-03T09:39:39.130Z"
   },
   {
    "duration": 10,
    "start_time": "2025-01-03T09:39:39.143Z"
   },
   {
    "duration": 4,
    "start_time": "2025-01-03T09:39:39.155Z"
   },
   {
    "duration": 4,
    "start_time": "2025-01-03T09:39:39.161Z"
   },
   {
    "duration": 11,
    "start_time": "2025-01-03T09:39:39.167Z"
   },
   {
    "duration": 4,
    "start_time": "2025-01-03T09:39:39.180Z"
   },
   {
    "duration": 40,
    "start_time": "2025-01-03T09:39:39.186Z"
   },
   {
    "duration": 12,
    "start_time": "2025-01-03T09:39:39.227Z"
   },
   {
    "duration": 5,
    "start_time": "2025-01-03T09:39:39.240Z"
   },
   {
    "duration": 4,
    "start_time": "2025-01-03T09:39:39.247Z"
   },
   {
    "duration": 11,
    "start_time": "2025-01-03T09:39:39.253Z"
   },
   {
    "duration": 58,
    "start_time": "2025-01-03T09:39:39.265Z"
   },
   {
    "duration": 12,
    "start_time": "2025-01-03T09:39:39.325Z"
   },
   {
    "duration": 88,
    "start_time": "2025-01-03T09:39:39.338Z"
   },
   {
    "duration": 4,
    "start_time": "2025-01-03T09:39:39.428Z"
   },
   {
    "duration": 3,
    "start_time": "2025-01-03T09:39:39.434Z"
   },
   {
    "duration": 3,
    "start_time": "2025-01-03T09:39:39.439Z"
   },
   {
    "duration": 80,
    "start_time": "2025-01-03T09:39:39.444Z"
   },
   {
    "duration": 8,
    "start_time": "2025-01-03T09:39:39.526Z"
   },
   {
    "duration": 8,
    "start_time": "2025-01-03T09:39:39.535Z"
   },
   {
    "duration": 8,
    "start_time": "2025-01-03T09:39:39.544Z"
   },
   {
    "duration": 3,
    "start_time": "2025-01-03T09:39:39.553Z"
   },
   {
    "duration": 4,
    "start_time": "2025-01-03T09:39:39.557Z"
   },
   {
    "duration": 4,
    "start_time": "2025-01-03T09:39:39.563Z"
   },
   {
    "duration": 2,
    "start_time": "2025-01-03T09:39:39.569Z"
   },
   {
    "duration": 6,
    "start_time": "2025-01-03T09:39:39.573Z"
   },
   {
    "duration": 49,
    "start_time": "2025-01-03T09:39:39.580Z"
   },
   {
    "duration": 6,
    "start_time": "2025-01-03T09:39:39.630Z"
   },
   {
    "duration": 2,
    "start_time": "2025-01-03T09:39:39.638Z"
   },
   {
    "duration": 11,
    "start_time": "2025-01-03T09:39:39.642Z"
   },
   {
    "duration": 291,
    "start_time": "2025-01-03T09:39:39.654Z"
   },
   {
    "duration": 248,
    "start_time": "2025-01-03T09:39:39.947Z"
   },
   {
    "duration": 273,
    "start_time": "2025-01-03T09:39:40.196Z"
   },
   {
    "duration": 4,
    "start_time": "2025-01-03T09:39:40.470Z"
   },
   {
    "duration": 2,
    "start_time": "2025-01-03T09:40:19.715Z"
   },
   {
    "duration": 814,
    "start_time": "2025-01-03T09:41:32.168Z"
   },
   {
    "duration": 183,
    "start_time": "2025-01-03T09:41:32.984Z"
   },
   {
    "duration": 220,
    "start_time": "2025-01-03T09:41:33.168Z"
   },
   {
    "duration": 11,
    "start_time": "2025-01-03T09:41:33.390Z"
   },
   {
    "duration": 6,
    "start_time": "2025-01-03T09:41:33.402Z"
   },
   {
    "duration": 7,
    "start_time": "2025-01-03T09:41:33.424Z"
   },
   {
    "duration": 3,
    "start_time": "2025-01-03T09:41:33.432Z"
   },
   {
    "duration": 3,
    "start_time": "2025-01-03T09:41:33.437Z"
   },
   {
    "duration": 4,
    "start_time": "2025-01-03T09:41:33.441Z"
   },
   {
    "duration": 11,
    "start_time": "2025-01-03T09:41:33.449Z"
   },
   {
    "duration": 11,
    "start_time": "2025-01-03T09:41:33.461Z"
   },
   {
    "duration": 10,
    "start_time": "2025-01-03T09:41:33.473Z"
   },
   {
    "duration": 62,
    "start_time": "2025-01-03T09:41:33.485Z"
   },
   {
    "duration": 24,
    "start_time": "2025-01-03T09:41:33.548Z"
   },
   {
    "duration": 23,
    "start_time": "2025-01-03T09:41:33.573Z"
   },
   {
    "duration": 52,
    "start_time": "2025-01-03T09:41:33.598Z"
   },
   {
    "duration": 29,
    "start_time": "2025-01-03T09:41:33.652Z"
   },
   {
    "duration": 51,
    "start_time": "2025-01-03T09:41:33.683Z"
   },
   {
    "duration": 14,
    "start_time": "2025-01-03T09:41:33.735Z"
   },
   {
    "duration": 12,
    "start_time": "2025-01-03T09:41:33.751Z"
   },
   {
    "duration": 13,
    "start_time": "2025-01-03T09:41:33.765Z"
   },
   {
    "duration": 54,
    "start_time": "2025-01-03T09:41:33.779Z"
   },
   {
    "duration": 20,
    "start_time": "2025-01-03T09:41:33.835Z"
   },
   {
    "duration": 31,
    "start_time": "2025-01-03T09:41:33.857Z"
   },
   {
    "duration": 9,
    "start_time": "2025-01-03T09:41:33.890Z"
   },
   {
    "duration": 25,
    "start_time": "2025-01-03T09:41:33.900Z"
   },
   {
    "duration": 7,
    "start_time": "2025-01-03T09:41:33.927Z"
   },
   {
    "duration": 4,
    "start_time": "2025-01-03T09:41:33.941Z"
   },
   {
    "duration": 6,
    "start_time": "2025-01-03T09:41:33.947Z"
   },
   {
    "duration": 7,
    "start_time": "2025-01-03T09:41:33.954Z"
   },
   {
    "duration": 5,
    "start_time": "2025-01-03T09:41:33.963Z"
   },
   {
    "duration": 10,
    "start_time": "2025-01-03T09:41:33.970Z"
   },
   {
    "duration": 51,
    "start_time": "2025-01-03T09:41:33.981Z"
   },
   {
    "duration": 4,
    "start_time": "2025-01-03T09:41:34.034Z"
   },
   {
    "duration": 4,
    "start_time": "2025-01-03T09:41:34.040Z"
   },
   {
    "duration": 10,
    "start_time": "2025-01-03T09:41:34.046Z"
   },
   {
    "duration": 4,
    "start_time": "2025-01-03T09:41:34.058Z"
   },
   {
    "duration": 4,
    "start_time": "2025-01-03T09:41:34.063Z"
   },
   {
    "duration": 11,
    "start_time": "2025-01-03T09:41:34.069Z"
   },
   {
    "duration": 45,
    "start_time": "2025-01-03T09:41:34.081Z"
   },
   {
    "duration": 4,
    "start_time": "2025-01-03T09:41:34.136Z"
   },
   {
    "duration": 14,
    "start_time": "2025-01-03T09:41:34.141Z"
   },
   {
    "duration": 7,
    "start_time": "2025-01-03T09:41:34.158Z"
   },
   {
    "duration": 11,
    "start_time": "2025-01-03T09:41:34.224Z"
   },
   {
    "duration": 11,
    "start_time": "2025-01-03T09:41:34.237Z"
   },
   {
    "duration": 3,
    "start_time": "2025-01-03T09:41:34.325Z"
   },
   {
    "duration": 6,
    "start_time": "2025-01-03T09:41:34.330Z"
   },
   {
    "duration": 4,
    "start_time": "2025-01-03T09:41:34.340Z"
   },
   {
    "duration": 2,
    "start_time": "2025-01-03T09:41:34.347Z"
   },
   {
    "duration": 9,
    "start_time": "2025-01-03T09:41:34.423Z"
   },
   {
    "duration": 7,
    "start_time": "2025-01-03T09:41:34.433Z"
   },
   {
    "duration": 8,
    "start_time": "2025-01-03T09:41:34.441Z"
   },
   {
    "duration": 2,
    "start_time": "2025-01-03T09:41:34.451Z"
   },
   {
    "duration": 4,
    "start_time": "2025-01-03T09:41:34.455Z"
   },
   {
    "duration": 4,
    "start_time": "2025-01-03T09:41:34.460Z"
   },
   {
    "duration": 3,
    "start_time": "2025-01-03T09:41:34.465Z"
   },
   {
    "duration": 6,
    "start_time": "2025-01-03T09:41:34.469Z"
   },
   {
    "duration": 48,
    "start_time": "2025-01-03T09:41:34.476Z"
   },
   {
    "duration": 5,
    "start_time": "2025-01-03T09:41:34.527Z"
   },
   {
    "duration": 2,
    "start_time": "2025-01-03T09:41:34.534Z"
   },
   {
    "duration": 10,
    "start_time": "2025-01-03T09:41:34.537Z"
   },
   {
    "duration": 265,
    "start_time": "2025-01-03T09:41:34.549Z"
   },
   {
    "duration": 252,
    "start_time": "2025-01-03T09:41:34.815Z"
   },
   {
    "duration": 255,
    "start_time": "2025-01-03T09:41:35.069Z"
   },
   {
    "duration": 4,
    "start_time": "2025-01-03T09:41:35.325Z"
   },
   {
    "duration": 12,
    "start_time": "2025-01-03T15:23:30.005Z"
   },
   {
    "duration": 2600,
    "start_time": "2025-01-03T18:01:48.333Z"
   },
   {
    "duration": 153,
    "start_time": "2025-01-03T18:01:50.935Z"
   },
   {
    "duration": 287,
    "start_time": "2025-01-03T18:01:51.089Z"
   },
   {
    "duration": 10,
    "start_time": "2025-01-03T18:01:51.378Z"
   },
   {
    "duration": 7,
    "start_time": "2025-01-03T18:01:51.391Z"
   },
   {
    "duration": 11,
    "start_time": "2025-01-03T18:01:51.400Z"
   },
   {
    "duration": 3,
    "start_time": "2025-01-03T18:01:51.414Z"
   },
   {
    "duration": 3,
    "start_time": "2025-01-03T18:01:51.419Z"
   },
   {
    "duration": 3,
    "start_time": "2025-01-03T18:01:51.424Z"
   },
   {
    "duration": 12,
    "start_time": "2025-01-03T18:01:51.428Z"
   },
   {
    "duration": 10,
    "start_time": "2025-01-03T18:01:51.441Z"
   },
   {
    "duration": 9,
    "start_time": "2025-01-03T18:01:51.453Z"
   },
   {
    "duration": 69,
    "start_time": "2025-01-03T18:01:51.463Z"
   },
   {
    "duration": 24,
    "start_time": "2025-01-03T18:01:51.535Z"
   },
   {
    "duration": 23,
    "start_time": "2025-01-03T18:01:51.561Z"
   },
   {
    "duration": 33,
    "start_time": "2025-01-03T18:01:51.606Z"
   },
   {
    "duration": 30,
    "start_time": "2025-01-03T18:01:51.641Z"
   },
   {
    "duration": 48,
    "start_time": "2025-01-03T18:01:51.673Z"
   },
   {
    "duration": 13,
    "start_time": "2025-01-03T18:01:51.724Z"
   },
   {
    "duration": 14,
    "start_time": "2025-01-03T18:01:51.739Z"
   },
   {
    "duration": 12,
    "start_time": "2025-01-03T18:01:51.754Z"
   },
   {
    "duration": 54,
    "start_time": "2025-01-03T18:01:51.768Z"
   },
   {
    "duration": 20,
    "start_time": "2025-01-03T18:01:51.824Z"
   },
   {
    "duration": 24,
    "start_time": "2025-01-03T18:01:51.845Z"
   },
   {
    "duration": 7,
    "start_time": "2025-01-03T18:01:51.871Z"
   },
   {
    "duration": 31,
    "start_time": "2025-01-03T18:01:51.880Z"
   },
   {
    "duration": 7,
    "start_time": "2025-01-03T18:01:51.913Z"
   },
   {
    "duration": 5,
    "start_time": "2025-01-03T18:01:51.922Z"
   },
   {
    "duration": 5,
    "start_time": "2025-01-03T18:01:51.930Z"
   },
   {
    "duration": 5,
    "start_time": "2025-01-03T18:01:51.937Z"
   },
   {
    "duration": 6,
    "start_time": "2025-01-03T18:01:51.944Z"
   },
   {
    "duration": 10,
    "start_time": "2025-01-03T18:01:51.951Z"
   },
   {
    "duration": 50,
    "start_time": "2025-01-03T18:01:51.964Z"
   },
   {
    "duration": 5,
    "start_time": "2025-01-03T18:01:52.016Z"
   },
   {
    "duration": 7,
    "start_time": "2025-01-03T18:01:52.023Z"
   },
   {
    "duration": 12,
    "start_time": "2025-01-03T18:01:52.032Z"
   },
   {
    "duration": 5,
    "start_time": "2025-01-03T18:01:52.046Z"
   },
   {
    "duration": 4,
    "start_time": "2025-01-03T18:01:52.053Z"
   },
   {
    "duration": 48,
    "start_time": "2025-01-03T18:01:52.059Z"
   },
   {
    "duration": 5,
    "start_time": "2025-01-03T18:01:52.108Z"
   },
   {
    "duration": 4,
    "start_time": "2025-01-03T18:01:52.119Z"
   },
   {
    "duration": 11,
    "start_time": "2025-01-03T18:01:52.124Z"
   },
   {
    "duration": 4,
    "start_time": "2025-01-03T18:01:52.137Z"
   },
   {
    "duration": 68,
    "start_time": "2025-01-03T18:01:52.143Z"
   },
   {
    "duration": 14,
    "start_time": "2025-01-03T18:01:52.213Z"
   },
   {
    "duration": 80,
    "start_time": "2025-01-03T18:01:52.228Z"
   },
   {
    "duration": 2,
    "start_time": "2025-01-03T18:01:52.310Z"
   },
   {
    "duration": 3,
    "start_time": "2025-01-03T18:01:52.314Z"
   },
   {
    "duration": 2,
    "start_time": "2025-01-03T18:01:52.319Z"
   },
   {
    "duration": 9,
    "start_time": "2025-01-03T18:01:52.323Z"
   },
   {
    "duration": 72,
    "start_time": "2025-01-03T18:01:52.334Z"
   },
   {
    "duration": 8,
    "start_time": "2025-01-03T18:01:52.408Z"
   },
   {
    "duration": 7,
    "start_time": "2025-01-03T18:01:52.418Z"
   },
   {
    "duration": 3,
    "start_time": "2025-01-03T18:01:52.427Z"
   },
   {
    "duration": 5,
    "start_time": "2025-01-03T18:01:52.432Z"
   },
   {
    "duration": 7,
    "start_time": "2025-01-03T18:01:52.439Z"
   },
   {
    "duration": 9,
    "start_time": "2025-01-03T18:01:52.448Z"
   },
   {
    "duration": 6,
    "start_time": "2025-01-03T18:01:52.459Z"
   },
   {
    "duration": 6,
    "start_time": "2025-01-03T18:01:52.466Z"
   },
   {
    "duration": 3,
    "start_time": "2025-01-03T18:01:52.507Z"
   },
   {
    "duration": 12,
    "start_time": "2025-01-03T18:01:52.512Z"
   },
   {
    "duration": 266,
    "start_time": "2025-01-03T18:01:52.526Z"
   },
   {
    "duration": 263,
    "start_time": "2025-01-03T18:01:52.795Z"
   },
   {
    "duration": 295,
    "start_time": "2025-01-03T18:01:53.060Z"
   },
   {
    "duration": 4,
    "start_time": "2025-01-03T18:01:53.357Z"
   },
   {
    "duration": 233,
    "start_time": "2025-01-03T18:06:15.776Z"
   },
   {
    "duration": 215,
    "start_time": "2025-01-03T18:06:54.539Z"
   },
   {
    "duration": 216,
    "start_time": "2025-01-03T18:07:03.022Z"
   },
   {
    "duration": 3,
    "start_time": "2025-01-03T18:09:15.907Z"
   },
   {
    "duration": 7,
    "start_time": "2025-01-03T18:09:19.991Z"
   },
   {
    "duration": 6,
    "start_time": "2025-01-03T18:14:03.945Z"
   },
   {
    "duration": 214,
    "start_time": "2025-01-03T18:14:11.953Z"
   },
   {
    "duration": 15,
    "start_time": "2025-01-03T18:17:17.380Z"
   },
   {
    "duration": 2444,
    "start_time": "2025-01-04T22:45:00.703Z"
   },
   {
    "duration": 143,
    "start_time": "2025-01-04T22:45:03.150Z"
   },
   {
    "duration": 305,
    "start_time": "2025-01-04T22:45:03.295Z"
   },
   {
    "duration": 10,
    "start_time": "2025-01-04T22:45:03.603Z"
   },
   {
    "duration": 9,
    "start_time": "2025-01-04T22:45:03.615Z"
   },
   {
    "duration": 7,
    "start_time": "2025-01-04T22:45:03.625Z"
   },
   {
    "duration": 3,
    "start_time": "2025-01-04T22:45:03.634Z"
   },
   {
    "duration": 3,
    "start_time": "2025-01-04T22:45:03.639Z"
   },
   {
    "duration": 3,
    "start_time": "2025-01-04T22:45:03.644Z"
   },
   {
    "duration": 12,
    "start_time": "2025-01-04T22:45:03.651Z"
   },
   {
    "duration": 10,
    "start_time": "2025-01-04T22:45:03.665Z"
   },
   {
    "duration": 52,
    "start_time": "2025-01-04T22:45:03.677Z"
   },
   {
    "duration": 25,
    "start_time": "2025-01-04T22:45:03.730Z"
   },
   {
    "duration": 23,
    "start_time": "2025-01-04T22:45:03.757Z"
   },
   {
    "duration": 43,
    "start_time": "2025-01-04T22:45:03.781Z"
   },
   {
    "duration": 32,
    "start_time": "2025-01-04T22:45:03.826Z"
   },
   {
    "duration": 34,
    "start_time": "2025-01-04T22:45:03.860Z"
   },
   {
    "duration": 49,
    "start_time": "2025-01-04T22:45:03.896Z"
   },
   {
    "duration": 13,
    "start_time": "2025-01-04T22:45:03.947Z"
   },
   {
    "duration": 13,
    "start_time": "2025-01-04T22:45:03.962Z"
   },
   {
    "duration": 13,
    "start_time": "2025-01-04T22:45:03.976Z"
   },
   {
    "duration": 56,
    "start_time": "2025-01-04T22:45:03.990Z"
   },
   {
    "duration": 20,
    "start_time": "2025-01-04T22:45:04.048Z"
   },
   {
    "duration": 25,
    "start_time": "2025-01-04T22:45:04.070Z"
   },
   {
    "duration": 8,
    "start_time": "2025-01-04T22:45:04.097Z"
   },
   {
    "duration": 8,
    "start_time": "2025-01-04T22:45:04.123Z"
   },
   {
    "duration": 8,
    "start_time": "2025-01-04T22:45:04.133Z"
   },
   {
    "duration": 4,
    "start_time": "2025-01-04T22:45:04.145Z"
   },
   {
    "duration": 6,
    "start_time": "2025-01-04T22:45:04.150Z"
   },
   {
    "duration": 6,
    "start_time": "2025-01-04T22:45:04.157Z"
   },
   {
    "duration": 6,
    "start_time": "2025-01-04T22:45:04.164Z"
   },
   {
    "duration": 10,
    "start_time": "2025-01-04T22:45:04.171Z"
   },
   {
    "duration": 49,
    "start_time": "2025-01-04T22:45:04.183Z"
   },
   {
    "duration": 5,
    "start_time": "2025-01-04T22:45:04.234Z"
   },
   {
    "duration": 6,
    "start_time": "2025-01-04T22:45:04.241Z"
   },
   {
    "duration": 10,
    "start_time": "2025-01-04T22:45:04.249Z"
   },
   {
    "duration": 4,
    "start_time": "2025-01-04T22:45:04.261Z"
   },
   {
    "duration": 4,
    "start_time": "2025-01-04T22:45:04.267Z"
   },
   {
    "duration": 11,
    "start_time": "2025-01-04T22:45:04.272Z"
   },
   {
    "duration": 41,
    "start_time": "2025-01-04T22:45:04.284Z"
   },
   {
    "duration": 4,
    "start_time": "2025-01-04T22:45:04.327Z"
   },
   {
    "duration": 11,
    "start_time": "2025-01-04T22:45:04.333Z"
   },
   {
    "duration": 4,
    "start_time": "2025-01-04T22:45:04.346Z"
   },
   {
    "duration": 75,
    "start_time": "2025-01-04T22:45:04.352Z"
   },
   {
    "duration": 22,
    "start_time": "2025-01-04T22:45:04.430Z"
   },
   {
    "duration": 71,
    "start_time": "2025-01-04T22:45:04.454Z"
   },
   {
    "duration": 4,
    "start_time": "2025-01-04T22:45:04.529Z"
   },
   {
    "duration": 4,
    "start_time": "2025-01-04T22:45:04.535Z"
   },
   {
    "duration": 3,
    "start_time": "2025-01-04T22:45:04.544Z"
   },
   {
    "duration": 8,
    "start_time": "2025-01-04T22:45:04.624Z"
   },
   {
    "duration": 7,
    "start_time": "2025-01-04T22:45:04.634Z"
   },
   {
    "duration": 7,
    "start_time": "2025-01-04T22:45:04.642Z"
   },
   {
    "duration": 2,
    "start_time": "2025-01-04T22:45:04.651Z"
   },
   {
    "duration": 4,
    "start_time": "2025-01-04T22:45:04.655Z"
   },
   {
    "duration": 5,
    "start_time": "2025-01-04T22:45:04.660Z"
   },
   {
    "duration": 4,
    "start_time": "2025-01-04T22:45:04.666Z"
   },
   {
    "duration": 6,
    "start_time": "2025-01-04T22:45:04.672Z"
   },
   {
    "duration": 6,
    "start_time": "2025-01-04T22:45:04.724Z"
   },
   {
    "duration": 6,
    "start_time": "2025-01-04T22:45:04.731Z"
   },
   {
    "duration": 3,
    "start_time": "2025-01-04T22:45:04.739Z"
   },
   {
    "duration": 10,
    "start_time": "2025-01-04T22:45:04.744Z"
   },
   {
    "duration": 273,
    "start_time": "2025-01-04T22:45:08.835Z"
   },
   {
    "duration": 16,
    "start_time": "2025-01-04T22:47:25.660Z"
   },
   {
    "duration": 14,
    "start_time": "2025-01-04T23:04:48.924Z"
   },
   {
    "duration": 213,
    "start_time": "2025-01-04T23:05:22.739Z"
   },
   {
    "duration": 7,
    "start_time": "2025-01-04T23:05:26.958Z"
   },
   {
    "duration": 8,
    "start_time": "2025-01-04T23:05:32.622Z"
   },
   {
    "duration": 7,
    "start_time": "2025-01-04T23:05:37.096Z"
   },
   {
    "duration": 3,
    "start_time": "2025-01-04T23:06:05.294Z"
   },
   {
    "duration": 3,
    "start_time": "2025-01-04T23:06:10.552Z"
   },
   {
    "duration": 3,
    "start_time": "2025-01-04T23:06:16.024Z"
   },
   {
    "duration": 12,
    "start_time": "2025-01-04T23:06:28.831Z"
   },
   {
    "duration": 12,
    "start_time": "2025-01-04T23:06:32.496Z"
   },
   {
    "duration": 11,
    "start_time": "2025-01-04T23:06:36.758Z"
   },
   {
    "duration": 24,
    "start_time": "2025-01-04T23:06:42.964Z"
   },
   {
    "duration": 26,
    "start_time": "2025-01-04T23:06:47.308Z"
   },
   {
    "duration": 23,
    "start_time": "2025-01-04T23:06:51.986Z"
   },
   {
    "duration": 8,
    "start_time": "2025-01-04T23:06:56.571Z"
   },
   {
    "duration": 24,
    "start_time": "2025-01-04T23:07:32.467Z"
   },
   {
    "duration": 20,
    "start_time": "2025-01-04T23:07:48.596Z"
   },
   {
    "duration": 17,
    "start_time": "2025-01-04T23:07:53.919Z"
   },
   {
    "duration": 5,
    "start_time": "2025-01-04T23:08:11.399Z"
   },
   {
    "duration": 7,
    "start_time": "2025-01-04T23:08:17.263Z"
   },
   {
    "duration": 3,
    "start_time": "2025-01-04T23:08:39.859Z"
   },
   {
    "duration": 2,
    "start_time": "2025-01-04T23:08:39.866Z"
   },
   {
    "duration": 214,
    "start_time": "2025-01-04T23:08:39.870Z"
   },
   {
    "duration": 7,
    "start_time": "2025-01-04T23:08:40.086Z"
   },
   {
    "duration": 6,
    "start_time": "2025-01-04T23:08:40.095Z"
   },
   {
    "duration": 21,
    "start_time": "2025-01-04T23:08:40.104Z"
   },
   {
    "duration": 3,
    "start_time": "2025-01-04T23:08:40.126Z"
   },
   {
    "duration": 3,
    "start_time": "2025-01-04T23:08:40.131Z"
   },
   {
    "duration": 4,
    "start_time": "2025-01-04T23:08:40.135Z"
   },
   {
    "duration": 11,
    "start_time": "2025-01-04T23:08:40.140Z"
   },
   {
    "duration": 10,
    "start_time": "2025-01-04T23:08:40.153Z"
   },
   {
    "duration": 10,
    "start_time": "2025-01-04T23:08:40.164Z"
   },
   {
    "duration": 61,
    "start_time": "2025-01-04T23:08:40.175Z"
   },
   {
    "duration": 23,
    "start_time": "2025-01-04T23:08:40.238Z"
   },
   {
    "duration": 23,
    "start_time": "2025-01-04T23:08:40.264Z"
   },
   {
    "duration": 31,
    "start_time": "2025-01-04T23:09:21.618Z"
   },
   {
    "duration": 31,
    "start_time": "2025-01-04T23:10:01.347Z"
   },
   {
    "duration": 28,
    "start_time": "2025-01-04T23:10:02.545Z"
   },
   {
    "duration": 30,
    "start_time": "2025-01-04T23:10:03.915Z"
   },
   {
    "duration": 14,
    "start_time": "2025-01-04T23:10:16.638Z"
   },
   {
    "duration": 11,
    "start_time": "2025-01-04T23:10:44.611Z"
   },
   {
    "duration": 11,
    "start_time": "2025-01-04T23:11:01.970Z"
   },
   {
    "duration": 24,
    "start_time": "2025-01-04T23:11:20.115Z"
   },
   {
    "duration": 603,
    "start_time": "2025-01-04T23:15:47.722Z"
   },
   {
    "duration": 2603,
    "start_time": "2025-01-06T01:10:44.490Z"
   },
   {
    "duration": 164,
    "start_time": "2025-01-06T01:10:47.095Z"
   },
   {
    "duration": 291,
    "start_time": "2025-01-06T01:10:47.261Z"
   },
   {
    "duration": 10,
    "start_time": "2025-01-06T01:10:47.555Z"
   },
   {
    "duration": 7,
    "start_time": "2025-01-06T01:10:47.566Z"
   },
   {
    "duration": 7,
    "start_time": "2025-01-06T01:10:47.575Z"
   },
   {
    "duration": 3,
    "start_time": "2025-01-06T01:10:47.583Z"
   },
   {
    "duration": 3,
    "start_time": "2025-01-06T01:10:47.588Z"
   },
   {
    "duration": 3,
    "start_time": "2025-01-06T01:10:47.593Z"
   },
   {
    "duration": 12,
    "start_time": "2025-01-06T01:10:47.600Z"
   },
   {
    "duration": 10,
    "start_time": "2025-01-06T01:10:47.614Z"
   },
   {
    "duration": 52,
    "start_time": "2025-01-06T01:10:47.626Z"
   },
   {
    "duration": 26,
    "start_time": "2025-01-06T01:10:47.680Z"
   },
   {
    "duration": 24,
    "start_time": "2025-01-06T01:10:47.708Z"
   },
   {
    "duration": 48,
    "start_time": "2025-01-06T01:10:47.733Z"
   },
   {
    "duration": 8,
    "start_time": "2025-01-06T01:10:47.783Z"
   },
   {
    "duration": 31,
    "start_time": "2025-01-06T01:10:47.793Z"
   },
   {
    "duration": 45,
    "start_time": "2025-01-06T01:10:47.826Z"
   },
   {
    "duration": 35,
    "start_time": "2025-01-06T01:10:47.873Z"
   },
   {
    "duration": 14,
    "start_time": "2025-01-06T01:10:47.910Z"
   },
   {
    "duration": 16,
    "start_time": "2025-01-06T01:10:47.925Z"
   },
   {
    "duration": 38,
    "start_time": "2025-01-06T01:10:47.942Z"
   },
   {
    "duration": 240,
    "start_time": "2025-01-06T01:10:47.982Z"
   },
   {
    "duration": 208,
    "start_time": "2025-01-06T01:10:48.224Z"
   },
   {
    "duration": 275,
    "start_time": "2025-01-06T01:10:48.434Z"
   },
   {
    "duration": 5,
    "start_time": "2025-01-06T01:10:48.711Z"
   },
   {
    "duration": 5,
    "start_time": "2025-01-06T01:10:48.717Z"
   },
   {
    "duration": 5,
    "start_time": "2025-01-06T01:10:48.728Z"
   },
   {
    "duration": 8,
    "start_time": "2025-01-06T01:10:48.735Z"
   },
   {
    "duration": 9,
    "start_time": "2025-01-06T01:10:48.770Z"
   },
   {
    "duration": 11,
    "start_time": "2025-01-06T01:10:48.781Z"
   },
   {
    "duration": 5,
    "start_time": "2025-01-06T01:10:48.794Z"
   },
   {
    "duration": 4,
    "start_time": "2025-01-06T01:10:48.801Z"
   },
   {
    "duration": 12,
    "start_time": "2025-01-06T01:10:48.806Z"
   },
   {
    "duration": 4,
    "start_time": "2025-01-06T01:10:48.819Z"
   },
   {
    "duration": 44,
    "start_time": "2025-01-06T01:10:48.826Z"
   },
   {
    "duration": 11,
    "start_time": "2025-01-06T01:10:48.872Z"
   },
   {
    "duration": 5,
    "start_time": "2025-01-06T01:10:48.885Z"
   },
   {
    "duration": 3,
    "start_time": "2025-01-06T01:10:48.892Z"
   },
   {
    "duration": 12,
    "start_time": "2025-01-06T01:10:48.897Z"
   },
   {
    "duration": 66,
    "start_time": "2025-01-06T01:10:48.911Z"
   },
   {
    "duration": 12,
    "start_time": "2025-01-06T01:10:48.979Z"
   },
   {
    "duration": 80,
    "start_time": "2025-01-06T01:10:48.993Z"
   },
   {
    "duration": 5,
    "start_time": "2025-01-06T01:10:49.076Z"
   },
   {
    "duration": 3,
    "start_time": "2025-01-06T01:10:49.083Z"
   },
   {
    "duration": 4,
    "start_time": "2025-01-06T01:10:49.088Z"
   },
   {
    "duration": 80,
    "start_time": "2025-01-06T01:10:49.094Z"
   },
   {
    "duration": 7,
    "start_time": "2025-01-06T01:10:49.176Z"
   },
   {
    "duration": 6,
    "start_time": "2025-01-06T01:10:49.185Z"
   },
   {
    "duration": 8,
    "start_time": "2025-01-06T01:10:49.193Z"
   },
   {
    "duration": 6,
    "start_time": "2025-01-06T01:10:49.204Z"
   },
   {
    "duration": 6,
    "start_time": "2025-01-06T01:10:49.213Z"
   },
   {
    "duration": 6,
    "start_time": "2025-01-06T01:10:49.221Z"
   },
   {
    "duration": 878,
    "start_time": "2025-01-06T01:10:49.229Z"
   },
   {
    "duration": 6,
    "start_time": "2025-01-06T01:10:50.109Z"
   },
   {
    "duration": 844,
    "start_time": "2025-01-06T01:10:50.116Z"
   },
   {
    "duration": 11,
    "start_time": "2025-01-06T01:10:50.962Z"
   },
   {
    "duration": 900,
    "start_time": "2025-01-06T01:10:50.975Z"
   },
   {
    "duration": 6,
    "start_time": "2025-01-06T01:10:51.876Z"
   },
   {
    "duration": 807,
    "start_time": "2025-01-06T01:11:03.635Z"
   },
   {
    "duration": 182,
    "start_time": "2025-01-06T01:11:04.444Z"
   },
   {
    "duration": 221,
    "start_time": "2025-01-06T01:11:04.628Z"
   },
   {
    "duration": 11,
    "start_time": "2025-01-06T01:11:04.851Z"
   },
   {
    "duration": 6,
    "start_time": "2025-01-06T01:11:04.871Z"
   },
   {
    "duration": 7,
    "start_time": "2025-01-06T01:11:04.879Z"
   },
   {
    "duration": 3,
    "start_time": "2025-01-06T01:11:04.887Z"
   },
   {
    "duration": 4,
    "start_time": "2025-01-06T01:11:04.892Z"
   },
   {
    "duration": 3,
    "start_time": "2025-01-06T01:11:04.897Z"
   },
   {
    "duration": 11,
    "start_time": "2025-01-06T01:11:04.902Z"
   },
   {
    "duration": 11,
    "start_time": "2025-01-06T01:11:04.914Z"
   },
   {
    "duration": 51,
    "start_time": "2025-01-06T01:11:04.926Z"
   },
   {
    "duration": 25,
    "start_time": "2025-01-06T01:11:04.979Z"
   },
   {
    "duration": 24,
    "start_time": "2025-01-06T01:11:05.007Z"
   },
   {
    "duration": 45,
    "start_time": "2025-01-06T01:11:05.032Z"
   },
   {
    "duration": 7,
    "start_time": "2025-01-06T01:11:05.078Z"
   },
   {
    "duration": 31,
    "start_time": "2025-01-06T01:11:05.087Z"
   },
   {
    "duration": 29,
    "start_time": "2025-01-06T01:11:05.120Z"
   },
   {
    "duration": 33,
    "start_time": "2025-01-06T01:11:05.170Z"
   },
   {
    "duration": 14,
    "start_time": "2025-01-06T01:11:05.205Z"
   },
   {
    "duration": 13,
    "start_time": "2025-01-06T01:11:05.221Z"
   },
   {
    "duration": 41,
    "start_time": "2025-01-06T01:11:05.235Z"
   },
   {
    "duration": 232,
    "start_time": "2025-01-06T01:11:05.278Z"
   },
   {
    "duration": 207,
    "start_time": "2025-01-06T01:11:05.511Z"
   },
   {
    "duration": 225,
    "start_time": "2025-01-06T01:11:05.719Z"
   },
   {
    "duration": 5,
    "start_time": "2025-01-06T01:11:05.946Z"
   },
   {
    "duration": 18,
    "start_time": "2025-01-06T01:11:05.953Z"
   },
   {
    "duration": 6,
    "start_time": "2025-01-06T01:11:05.972Z"
   },
   {
    "duration": 6,
    "start_time": "2025-01-06T01:11:05.979Z"
   },
   {
    "duration": 8,
    "start_time": "2025-01-06T01:11:05.986Z"
   },
   {
    "duration": 12,
    "start_time": "2025-01-06T01:11:05.996Z"
   },
   {
    "duration": 4,
    "start_time": "2025-01-06T01:11:06.010Z"
   },
   {
    "duration": 4,
    "start_time": "2025-01-06T01:11:06.015Z"
   },
   {
    "duration": 50,
    "start_time": "2025-01-06T01:11:06.021Z"
   },
   {
    "duration": 5,
    "start_time": "2025-01-06T01:11:06.073Z"
   },
   {
    "duration": 5,
    "start_time": "2025-01-06T01:11:06.079Z"
   },
   {
    "duration": 12,
    "start_time": "2025-01-06T01:11:06.086Z"
   },
   {
    "duration": 5,
    "start_time": "2025-01-06T01:11:06.100Z"
   },
   {
    "duration": 4,
    "start_time": "2025-01-06T01:11:06.107Z"
   },
   {
    "duration": 60,
    "start_time": "2025-01-06T01:11:06.113Z"
   },
   {
    "duration": 16,
    "start_time": "2025-01-06T01:11:06.178Z"
   },
   {
    "duration": 85,
    "start_time": "2025-01-06T01:11:06.196Z"
   },
   {
    "duration": 9,
    "start_time": "2025-01-06T01:11:06.283Z"
   },
   {
    "duration": 7,
    "start_time": "2025-01-06T01:11:06.370Z"
   },
   {
    "duration": 3,
    "start_time": "2025-01-06T01:11:06.380Z"
   },
   {
    "duration": 3,
    "start_time": "2025-01-06T01:11:06.384Z"
   },
   {
    "duration": 8,
    "start_time": "2025-01-06T01:11:06.389Z"
   },
   {
    "duration": 7,
    "start_time": "2025-01-06T01:11:06.398Z"
   },
   {
    "duration": 67,
    "start_time": "2025-01-06T01:11:06.407Z"
   },
   {
    "duration": 8,
    "start_time": "2025-01-06T01:11:06.476Z"
   },
   {
    "duration": 6,
    "start_time": "2025-01-06T01:11:06.486Z"
   },
   {
    "duration": 6,
    "start_time": "2025-01-06T01:11:06.494Z"
   },
   {
    "duration": 5,
    "start_time": "2025-01-06T01:11:06.501Z"
   },
   {
    "duration": 908,
    "start_time": "2025-01-06T01:11:06.508Z"
   },
   {
    "duration": 6,
    "start_time": "2025-01-06T01:11:07.418Z"
   },
   {
    "duration": 846,
    "start_time": "2025-01-06T01:11:07.425Z"
   },
   {
    "duration": 6,
    "start_time": "2025-01-06T01:11:08.272Z"
   },
   {
    "duration": 864,
    "start_time": "2025-01-06T01:11:08.281Z"
   },
   {
    "duration": 6,
    "start_time": "2025-01-06T01:11:09.147Z"
   },
   {
    "duration": 2792,
    "start_time": "2025-01-07T05:07:26.778Z"
   },
   {
    "duration": 233,
    "start_time": "2025-01-07T05:07:29.572Z"
   },
   {
    "duration": 590,
    "start_time": "2025-01-07T05:07:29.807Z"
   },
   {
    "duration": 1,
    "start_time": "2025-01-07T05:07:30.405Z"
   },
   {
    "duration": 0,
    "start_time": "2025-01-07T05:07:30.407Z"
   },
   {
    "duration": 0,
    "start_time": "2025-01-07T05:07:30.408Z"
   },
   {
    "duration": 0,
    "start_time": "2025-01-07T05:07:30.410Z"
   },
   {
    "duration": 0,
    "start_time": "2025-01-07T05:07:30.412Z"
   },
   {
    "duration": 0,
    "start_time": "2025-01-07T05:07:30.414Z"
   },
   {
    "duration": 0,
    "start_time": "2025-01-07T05:07:30.415Z"
   },
   {
    "duration": 0,
    "start_time": "2025-01-07T05:07:30.417Z"
   },
   {
    "duration": 0,
    "start_time": "2025-01-07T05:07:30.418Z"
   },
   {
    "duration": 0,
    "start_time": "2025-01-07T05:07:30.419Z"
   },
   {
    "duration": 0,
    "start_time": "2025-01-07T05:07:30.421Z"
   },
   {
    "duration": 0,
    "start_time": "2025-01-07T05:07:30.422Z"
   },
   {
    "duration": 0,
    "start_time": "2025-01-07T05:07:30.423Z"
   },
   {
    "duration": 0,
    "start_time": "2025-01-07T05:07:30.424Z"
   },
   {
    "duration": 0,
    "start_time": "2025-01-07T05:07:30.425Z"
   },
   {
    "duration": 1,
    "start_time": "2025-01-07T05:07:30.426Z"
   },
   {
    "duration": 0,
    "start_time": "2025-01-07T05:07:30.428Z"
   },
   {
    "duration": 0,
    "start_time": "2025-01-07T05:07:30.429Z"
   },
   {
    "duration": 0,
    "start_time": "2025-01-07T05:07:30.430Z"
   },
   {
    "duration": 0,
    "start_time": "2025-01-07T05:07:30.431Z"
   },
   {
    "duration": 0,
    "start_time": "2025-01-07T05:07:30.433Z"
   },
   {
    "duration": 0,
    "start_time": "2025-01-07T05:07:30.434Z"
   },
   {
    "duration": 0,
    "start_time": "2025-01-07T05:07:30.436Z"
   },
   {
    "duration": 0,
    "start_time": "2025-01-07T05:07:30.437Z"
   },
   {
    "duration": 0,
    "start_time": "2025-01-07T05:07:30.438Z"
   },
   {
    "duration": 0,
    "start_time": "2025-01-07T05:07:30.439Z"
   },
   {
    "duration": 0,
    "start_time": "2025-01-07T05:07:30.440Z"
   },
   {
    "duration": 0,
    "start_time": "2025-01-07T05:07:30.442Z"
   },
   {
    "duration": 0,
    "start_time": "2025-01-07T05:07:30.444Z"
   },
   {
    "duration": 0,
    "start_time": "2025-01-07T05:07:30.445Z"
   },
   {
    "duration": 0,
    "start_time": "2025-01-07T05:07:30.505Z"
   },
   {
    "duration": 0,
    "start_time": "2025-01-07T05:07:30.507Z"
   },
   {
    "duration": 0,
    "start_time": "2025-01-07T05:07:30.508Z"
   },
   {
    "duration": 0,
    "start_time": "2025-01-07T05:07:30.509Z"
   },
   {
    "duration": 0,
    "start_time": "2025-01-07T05:07:30.510Z"
   },
   {
    "duration": 0,
    "start_time": "2025-01-07T05:07:30.511Z"
   },
   {
    "duration": 0,
    "start_time": "2025-01-07T05:07:30.512Z"
   },
   {
    "duration": 0,
    "start_time": "2025-01-07T05:07:30.513Z"
   },
   {
    "duration": 0,
    "start_time": "2025-01-07T05:07:30.515Z"
   },
   {
    "duration": 0,
    "start_time": "2025-01-07T05:07:30.519Z"
   },
   {
    "duration": 0,
    "start_time": "2025-01-07T05:07:30.520Z"
   },
   {
    "duration": 0,
    "start_time": "2025-01-07T05:07:30.521Z"
   },
   {
    "duration": 0,
    "start_time": "2025-01-07T05:07:30.522Z"
   },
   {
    "duration": 0,
    "start_time": "2025-01-07T05:07:30.524Z"
   },
   {
    "duration": 0,
    "start_time": "2025-01-07T05:07:30.525Z"
   },
   {
    "duration": 1,
    "start_time": "2025-01-07T05:07:30.526Z"
   },
   {
    "duration": 0,
    "start_time": "2025-01-07T05:07:30.529Z"
   },
   {
    "duration": 0,
    "start_time": "2025-01-07T05:07:30.530Z"
   },
   {
    "duration": 0,
    "start_time": "2025-01-07T05:07:30.531Z"
   },
   {
    "duration": 0,
    "start_time": "2025-01-07T05:07:30.533Z"
   },
   {
    "duration": 1,
    "start_time": "2025-01-07T05:07:30.534Z"
   },
   {
    "duration": 0,
    "start_time": "2025-01-07T05:07:30.536Z"
   },
   {
    "duration": 0,
    "start_time": "2025-01-07T05:07:30.537Z"
   },
   {
    "duration": 0,
    "start_time": "2025-01-07T05:07:30.539Z"
   },
   {
    "duration": 0,
    "start_time": "2025-01-07T05:07:30.540Z"
   },
   {
    "duration": 0,
    "start_time": "2025-01-07T05:07:30.541Z"
   },
   {
    "duration": 0,
    "start_time": "2025-01-07T05:07:30.543Z"
   },
   {
    "duration": 0,
    "start_time": "2025-01-07T05:07:30.544Z"
   },
   {
    "duration": 851,
    "start_time": "2025-01-07T05:08:01.213Z"
   },
   {
    "duration": 201,
    "start_time": "2025-01-07T05:08:02.066Z"
   },
   {
    "duration": 304,
    "start_time": "2025-01-07T05:08:02.269Z"
   },
   {
    "duration": 11,
    "start_time": "2025-01-07T05:08:02.575Z"
   },
   {
    "duration": 8,
    "start_time": "2025-01-07T05:08:02.587Z"
   },
   {
    "duration": 8,
    "start_time": "2025-01-07T05:08:02.606Z"
   },
   {
    "duration": 364,
    "start_time": "2025-01-07T05:08:02.616Z"
   },
   {
    "duration": 3,
    "start_time": "2025-01-07T05:08:02.982Z"
   },
   {
    "duration": 3,
    "start_time": "2025-01-07T05:08:02.987Z"
   },
   {
    "duration": 3,
    "start_time": "2025-01-07T05:08:03.006Z"
   },
   {
    "duration": 17,
    "start_time": "2025-01-07T05:08:03.010Z"
   },
   {
    "duration": 10,
    "start_time": "2025-01-07T05:08:03.028Z"
   },
   {
    "duration": 10,
    "start_time": "2025-01-07T05:08:03.040Z"
   },
   {
    "duration": 26,
    "start_time": "2025-01-07T05:08:03.051Z"
   },
   {
    "duration": 28,
    "start_time": "2025-01-07T05:08:03.105Z"
   },
   {
    "duration": 29,
    "start_time": "2025-01-07T05:08:03.135Z"
   },
   {
    "duration": 51,
    "start_time": "2025-01-07T05:08:03.167Z"
   },
   {
    "duration": 29,
    "start_time": "2025-01-07T05:08:03.220Z"
   },
   {
    "duration": 31,
    "start_time": "2025-01-07T05:08:03.251Z"
   },
   {
    "duration": 32,
    "start_time": "2025-01-07T05:08:03.284Z"
   },
   {
    "duration": 13,
    "start_time": "2025-01-07T05:08:03.318Z"
   },
   {
    "duration": 14,
    "start_time": "2025-01-07T05:08:03.333Z"
   },
   {
    "duration": 232,
    "start_time": "2025-01-07T05:08:03.348Z"
   },
   {
    "duration": 215,
    "start_time": "2025-01-07T05:08:03.582Z"
   },
   {
    "duration": 228,
    "start_time": "2025-01-07T05:08:03.798Z"
   },
   {
    "duration": 5,
    "start_time": "2025-01-07T05:08:04.028Z"
   },
   {
    "duration": 6,
    "start_time": "2025-01-07T05:08:04.034Z"
   },
   {
    "duration": 5,
    "start_time": "2025-01-07T05:08:04.045Z"
   },
   {
    "duration": 6,
    "start_time": "2025-01-07T05:08:04.052Z"
   },
   {
    "duration": 8,
    "start_time": "2025-01-07T05:08:04.060Z"
   },
   {
    "duration": 45,
    "start_time": "2025-01-07T05:08:04.070Z"
   },
   {
    "duration": 5,
    "start_time": "2025-01-07T05:08:04.116Z"
   },
   {
    "duration": 4,
    "start_time": "2025-01-07T05:08:04.122Z"
   },
   {
    "duration": 18,
    "start_time": "2025-01-07T05:08:04.128Z"
   },
   {
    "duration": 6,
    "start_time": "2025-01-07T05:08:04.148Z"
   },
   {
    "duration": 4,
    "start_time": "2025-01-07T05:08:04.156Z"
   },
   {
    "duration": 45,
    "start_time": "2025-01-07T05:08:04.161Z"
   },
   {
    "duration": 5,
    "start_time": "2025-01-07T05:08:04.207Z"
   },
   {
    "duration": 4,
    "start_time": "2025-01-07T05:08:04.213Z"
   },
   {
    "duration": 14,
    "start_time": "2025-01-07T05:08:04.219Z"
   },
   {
    "duration": 71,
    "start_time": "2025-01-07T05:08:04.234Z"
   },
   {
    "duration": 11,
    "start_time": "2025-01-07T05:08:04.307Z"
   },
   {
    "duration": 5,
    "start_time": "2025-01-07T05:08:04.320Z"
   },
   {
    "duration": 79,
    "start_time": "2025-01-07T05:08:04.326Z"
   },
   {
    "duration": 2,
    "start_time": "2025-01-07T05:08:04.408Z"
   },
   {
    "duration": 5,
    "start_time": "2025-01-07T05:08:04.412Z"
   },
   {
    "duration": 8,
    "start_time": "2025-01-07T05:08:04.419Z"
   },
   {
    "duration": 7,
    "start_time": "2025-01-07T05:08:04.428Z"
   },
   {
    "duration": 7,
    "start_time": "2025-01-07T05:08:04.436Z"
   },
   {
    "duration": 67,
    "start_time": "2025-01-07T05:08:04.444Z"
   },
   {
    "duration": 7,
    "start_time": "2025-01-07T05:08:04.512Z"
   },
   {
    "duration": 7,
    "start_time": "2025-01-07T05:08:04.520Z"
   },
   {
    "duration": 6,
    "start_time": "2025-01-07T05:08:04.528Z"
   },
   {
    "duration": 3,
    "start_time": "2025-01-07T05:08:04.535Z"
   },
   {
    "duration": 3,
    "start_time": "2025-01-07T05:08:04.540Z"
   },
   {
    "duration": 874,
    "start_time": "2025-01-07T05:08:04.545Z"
   },
   {
    "duration": 6,
    "start_time": "2025-01-07T05:08:05.421Z"
   },
   {
    "duration": 819,
    "start_time": "2025-01-07T05:08:05.428Z"
   },
   {
    "duration": 6,
    "start_time": "2025-01-07T05:08:06.248Z"
   },
   {
    "duration": 851,
    "start_time": "2025-01-07T05:08:06.257Z"
   },
   {
    "duration": 6,
    "start_time": "2025-01-07T05:08:07.109Z"
   }
  ],
  "kernelspec": {
   "display_name": "Python 3 (ipykernel)",
   "language": "python",
   "name": "python3"
  },
  "language_info": {
   "codemirror_mode": {
    "name": "ipython",
    "version": 3
   },
   "file_extension": ".py",
   "mimetype": "text/x-python",
   "name": "python",
   "nbconvert_exporter": "python",
   "pygments_lexer": "ipython3",
   "version": "3.9.19"
  },
  "toc": {
   "base_numbering": 1,
   "nav_menu": {},
   "number_sections": true,
   "sideBar": true,
   "skip_h1_title": true,
   "title_cell": "Table of Contents",
   "title_sidebar": "Contents",
   "toc_cell": false,
   "toc_position": {},
   "toc_section_display": true,
   "toc_window_display": false
  }
 },
 "nbformat": 4,
 "nbformat_minor": 2
}
